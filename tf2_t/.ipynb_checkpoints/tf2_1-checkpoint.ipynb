{
 "cells": [
  {
   "cell_type": "code",
   "execution_count": 1,
   "metadata": {},
   "outputs": [],
   "source": [
    "import tensorflow as tf"
   ]
  },
  {
   "cell_type": "code",
   "execution_count": 2,
   "metadata": {},
   "outputs": [
    {
     "data": {
      "text/plain": [
       "'2.0.0'"
      ]
     },
     "execution_count": 2,
     "metadata": {},
     "output_type": "execute_result"
    }
   ],
   "source": [
    "tf.__version__"
   ]
  },
  {
   "cell_type": "code",
   "execution_count": 3,
   "metadata": {},
   "outputs": [
    {
     "name": "stdout",
     "output_type": "stream",
     "text": [
      "tf2_1.ipynb\r\n"
     ]
    }
   ],
   "source": [
    "ls"
   ]
  },
  {
   "cell_type": "code",
   "execution_count": 4,
   "metadata": {},
   "outputs": [
    {
     "name": "stdout",
     "output_type": "stream",
     "text": [
      "Package              Version  \n",
      "-------------------- ---------\n",
      "absl-py              0.8.0    \n",
      "appnope              0.1.0    \n",
      "astor                0.8.0    \n",
      "attrs                19.2.0   \n",
      "backcall             0.1.0    \n",
      "bleach               3.1.0    \n",
      "certifi              2019.9.11\n",
      "cycler               0.10.0   \n",
      "decorator            4.4.0    \n",
      "defusedxml           0.6.0    \n",
      "entrypoints          0.3      \n",
      "gast                 0.2.2    \n",
      "google-pasta         0.1.7    \n",
      "grpcio               1.24.1   \n",
      "h5py                 2.10.0   \n",
      "ipykernel            5.1.2    \n",
      "ipython              7.8.0    \n",
      "ipython-genutils     0.2.0    \n",
      "ipywidgets           7.5.1    \n",
      "jedi                 0.15.1   \n",
      "Jinja2               2.10.3   \n",
      "jsonschema           3.0.2    \n",
      "jupyter              1.0.0    \n",
      "jupyter-client       5.3.3    \n",
      "jupyter-console      6.0.0    \n",
      "jupyter-core         4.6.0    \n",
      "Keras-Applications   1.0.8    \n",
      "Keras-Preprocessing  1.1.0    \n",
      "kiwisolver           1.1.0    \n",
      "Markdown             3.1.1    \n",
      "MarkupSafe           1.1.1    \n",
      "matplotlib           3.1.1    \n",
      "mistune              0.8.4    \n",
      "nbconvert            5.6.0    \n",
      "nbformat             4.4.0    \n",
      "notebook             6.0.1    \n",
      "numpy                1.17.2   \n",
      "opt-einsum           3.1.0    \n",
      "pandas               0.25.1   \n",
      "pandocfilters        1.4.2    \n",
      "parso                0.5.1    \n",
      "pexpect              4.7.0    \n",
      "pickleshare          0.7.5    \n",
      "pip                  19.2.3   \n",
      "prometheus-client    0.7.1    \n",
      "prompt-toolkit       2.0.10   \n",
      "protobuf             3.10.0   \n",
      "ptyprocess           0.6.0    \n",
      "Pygments             2.4.2    \n",
      "pyparsing            2.4.2    \n",
      "pyrsistent           0.15.4   \n",
      "python-dateutil      2.8.0    \n",
      "pytz                 2019.3   \n",
      "pyzmq                18.1.0   \n",
      "qtconsole            4.5.5    \n",
      "Send2Trash           1.5.0    \n",
      "setuptools           41.4.0   \n",
      "six                  1.12.0   \n",
      "tensorboard          2.0.0    \n",
      "tensorflow           2.0.0    \n",
      "tensorflow-estimator 2.0.0    \n",
      "termcolor            1.1.0    \n",
      "terminado            0.8.2    \n",
      "testpath             0.4.2    \n",
      "tornado              6.0.3    \n",
      "traitlets            4.3.3    \n",
      "wcwidth              0.1.7    \n",
      "webencodings         0.5.1    \n",
      "Werkzeug             0.16.0   \n",
      "wheel                0.33.6   \n",
      "widgetsnbextension   3.5.1    \n",
      "wrapt                1.11.2   \n",
      "Note: you may need to restart the kernel to use updated packages.\n"
     ]
    }
   ],
   "source": [
    "pip list"
   ]
  },
  {
   "cell_type": "code",
   "execution_count": 5,
   "metadata": {},
   "outputs": [],
   "source": [
    "from tensorflow import keras\n",
    "import numpy as np\n",
    "import matplotlib.pyplot as plt"
   ]
  },
  {
   "cell_type": "code",
   "execution_count": 6,
   "metadata": {},
   "outputs": [],
   "source": [
    "#importamos el dataset\n",
    "data = keras.datasets.fashion_mnist"
   ]
  },
  {
   "cell_type": "code",
   "execution_count": 7,
   "metadata": {},
   "outputs": [],
   "source": [
    "#lo hacemos asi porque load data va a 'botar' los datos de esta manera\n",
    "(train_images,train_labels),(test_images, test_labels) = data.load_data()"
   ]
  },
  {
   "cell_type": "code",
   "execution_count": 8,
   "metadata": {},
   "outputs": [
    {
     "name": "stdout",
     "output_type": "stream",
     "text": [
      "7\n"
     ]
    }
   ],
   "source": [
    "#hay 10 labels\n",
    "print(train_labels[6])"
   ]
  },
  {
   "cell_type": "code",
   "execution_count": 9,
   "metadata": {},
   "outputs": [],
   "source": [
    "#vamos a crear una lista donde estan los nombres de los labels\n",
    "class_names=['T-shirt/top','Trouser','Pullover','Dress','Coat','Sandal','Shirt','Sneaker','Bag','Ankle boot']"
   ]
  },
  {
   "cell_type": "code",
   "execution_count": 10,
   "metadata": {},
   "outputs": [
    {
     "data": {
      "image/png": "[encoded data removed]",
      "text/plain": [
       "<Figure size 432x288 with 1 Axes>"
      ]
     },
     "metadata": {
      "needs_background": "light"
     },
     "output_type": "display_data"
    }
   ],
   "source": [
    "#para ver una imagen\n",
    "plt.imshow(train_images[7],cmap=plt.cm.binary) #cmap=plt.cm.binary para verlo en blanco y negro\n",
    "plt.show()"
   ]
  },
  {
   "cell_type": "code",
   "execution_count": 11,
   "metadata": {},
   "outputs": [],
   "source": [
    "#normalizamos los datos, dividiendo los datos entre 255\n",
    "train_images = train_images/255.0\n",
    "test_images = test_images/255.0"
   ]
  },
  {
   "cell_type": "code",
   "execution_count": 12,
   "metadata": {},
   "outputs": [
    {
     "data": {
      "image/png": "[encoded data removed]",
      "text/plain": [
       "<Figure size 432x288 with 1 Axes>"
      ]
     },
     "metadata": {
      "needs_background": "light"
     },
     "output_type": "display_data"
    }
   ],
   "source": [
    "plt.imshow(train_images[7],cmap=plt.cm.binary) #cmap=plt.cm.binary para verlo en blanco y negro\n",
    "plt.show()"
   ]
  },
  {
   "cell_type": "code",
   "execution_count": 13,
   "metadata": {},
   "outputs": [],
   "source": [
    "#Creamos el modelo"
   ]
  },
  {
   "cell_type": "code",
   "execution_count": 14,
   "metadata": {},
   "outputs": [],
   "source": [
    "model = keras.Sequential([\n",
    "    keras.layers.Flatten(input_shape=(28,28)),\n",
    "    keras.layers.Dense(128,activation='relu'),\n",
    "    keras.layers.Dense(10,activation='softmax')\n",
    "])"
   ]
  },
  {
   "cell_type": "code",
   "execution_count": 15,
   "metadata": {},
   "outputs": [],
   "source": [
    "model.compile(optimizer='adam',loss='sparse_categorical_crossentropy',metrics=['accuracy'])"
   ]
  },
  {
   "cell_type": "code",
   "execution_count": 16,
   "metadata": {},
   "outputs": [
    {
     "name": "stdout",
     "output_type": "stream",
     "text": [
      "Train on 60000 samples\n",
      "Epoch 1/5\n",
      "60000/60000 [==============================] - 5s 85us/sample - loss: 0.4976 - accuracy: 0.8253\n",
      "Epoch 2/5\n",
      "60000/60000 [==============================] - 5s 79us/sample - loss: 0.3768 - accuracy: 0.8632\n",
      "Epoch 3/5\n",
      "60000/60000 [==============================] - 8s 130us/sample - loss: 0.3381 - accuracy: 0.8770\n",
      "Epoch 4/5\n",
      "60000/60000 [==============================] - 7s 125us/sample - loss: 0.3121 - accuracy: 0.8850\n",
      "Epoch 5/5\n",
      "60000/60000 [==============================] - 6s 100us/sample - loss: 0.2915 - accuracy: 0.8922\n"
     ]
    },
    {
     "data": {
      "text/plain": [
       "<tensorflow.python.keras.callbacks.History at 0x12b15a550>"
      ]
     },
     "execution_count": 16,
     "metadata": {},
     "output_type": "execute_result"
    }
   ],
   "source": [
    "model.fit(train_images, train_labels, epochs=5)"
   ]
  },
  {
   "cell_type": "code",
   "execution_count": 17,
   "metadata": {},
   "outputs": [],
   "source": [
    "#test_loss, test_acc = model.evaluate(test_images,test_labels)\n",
    "#print('Tested Acc:', test_acc)"
   ]
  },
  {
   "cell_type": "markdown",
   "metadata": {},
   "source": [
    "## Using the model to make predictions"
   ]
  },
  {
   "cell_type": "code",
   "execution_count": 21,
   "metadata": {},
   "outputs": [
    {
     "data": {
      "image/png": "[encoded data removed]",
      "text/plain": [
       "<Figure size 432x288 with 1 Axes>"
      ]
     },
     "metadata": {
      "needs_background": "light"
     },
     "output_type": "display_data"
    },
    {
     "data": {
      "image/png": "[encoded data removed]",
      "text/plain": [
       "<Figure size 432x288 with 1 Axes>"
      ]
     },
     "metadata": {
      "needs_background": "light"
     },
     "output_type": "display_data"
    },
    {
     "data": {
      "image/png": "[encoded data removed]",
      "text/plain": [
       "<Figure size 432x288 with 1 Axes>"
      ]
     },
     "metadata": {
      "needs_background": "light"
     },
     "output_type": "display_data"
    },
    {
     "data": {
      "image/png": "[encoded data removed]",
      "text/plain": [
       "<Figure size 432x288 with 1 Axes>"
      ]
     },
     "metadata": {
      "needs_background": "light"
     },
     "output_type": "display_data"
    },
    {
     "data": {
      "image/png": "[encoded data removed]",
      "text/plain": [
       "<Figure size 432x288 with 1 Axes>"
      ]
     },
     "metadata": {
      "needs_background": "light"
     },
     "output_type": "display_data"
    }
   ],
   "source": [
    "prediction=model.predict(test_images)\n",
    "for i in range(5):\n",
    "\n",
    "    plt.grid(False)\n",
    "    plt.imshow(test_images[i], cmap=plt.cm.binary)\n",
    "    plt.xlabel('Actual:'+class_names[test_labels[i]])\n",
    "    plt.title('Prediction:'+class_names[np.argmax(prediction[i])])\n",
    "    plt.show()"
   ]
  },
  {
   "cell_type": "code",
   "execution_count": null,
   "metadata": {},
   "outputs": [],
   "source": []
  }
 ],
 "metadata": {
  "kernelspec": {
   "display_name": "Python 3",
   "language": "python",
   "name": "python3"
  },
  "language_info": {
   "codemirror_mode": {
    "name": "ipython",
    "version": 3
   },
   "file_extension": ".py",
   "mimetype": "text/x-python",
   "name": "python",
   "nbconvert_exporter": "python",
   "pygments_lexer": "ipython3",
   "version": "3.7.4"
  }
 },
 "nbformat": 4,
 "nbformat_minor": 2
}
