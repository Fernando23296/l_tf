{
 "cells": [
  {
   "cell_type": "markdown",
   "metadata": {},
   "source": [
    "# Introduction to Machine Learning"
   ]
  },
  {
   "cell_type": "markdown",
   "metadata": {},
   "source": [
    "Vamos a entrenar un modelo para que nos ayude a aproximarnos a la formula: y = c*1.8 + 32"
   ]
  },
  {
   "cell_type": "code",
   "execution_count": 1,
   "metadata": {},
   "outputs": [
    {
     "name": "stderr",
     "output_type": "stream",
     "text": [
      "/usr/local/lib/python3.7/site-packages/tensorflow/python/framework/dtypes.py:516: FutureWarning: Passing (type, 1) or '1type' as a synonym of type is deprecated; in a future version of numpy, it will be understood as (type, (1,)) / '(1,)type'.\n",
      "  _np_qint8 = np.dtype([(\"qint8\", np.int8, 1)])\n",
      "/usr/local/lib/python3.7/site-packages/tensorflow/python/framework/dtypes.py:517: FutureWarning: Passing (type, 1) or '1type' as a synonym of type is deprecated; in a future version of numpy, it will be understood as (type, (1,)) / '(1,)type'.\n",
      "  _np_quint8 = np.dtype([(\"quint8\", np.uint8, 1)])\n",
      "/usr/local/lib/python3.7/site-packages/tensorflow/python/framework/dtypes.py:518: FutureWarning: Passing (type, 1) or '1type' as a synonym of type is deprecated; in a future version of numpy, it will be understood as (type, (1,)) / '(1,)type'.\n",
      "  _np_qint16 = np.dtype([(\"qint16\", np.int16, 1)])\n",
      "/usr/local/lib/python3.7/site-packages/tensorflow/python/framework/dtypes.py:519: FutureWarning: Passing (type, 1) or '1type' as a synonym of type is deprecated; in a future version of numpy, it will be understood as (type, (1,)) / '(1,)type'.\n",
      "  _np_quint16 = np.dtype([(\"quint16\", np.uint16, 1)])\n",
      "/usr/local/lib/python3.7/site-packages/tensorflow/python/framework/dtypes.py:520: FutureWarning: Passing (type, 1) or '1type' as a synonym of type is deprecated; in a future version of numpy, it will be understood as (type, (1,)) / '(1,)type'.\n",
      "  _np_qint32 = np.dtype([(\"qint32\", np.int32, 1)])\n",
      "/usr/local/lib/python3.7/site-packages/tensorflow/python/framework/dtypes.py:525: FutureWarning: Passing (type, 1) or '1type' as a synonym of type is deprecated; in a future version of numpy, it will be understood as (type, (1,)) / '(1,)type'.\n",
      "  np_resource = np.dtype([(\"resource\", np.ubyte, 1)])\n",
      "/usr/local/lib/python3.7/site-packages/tensorboard/compat/tensorflow_stub/dtypes.py:541: FutureWarning: Passing (type, 1) or '1type' as a synonym of type is deprecated; in a future version of numpy, it will be understood as (type, (1,)) / '(1,)type'.\n",
      "  _np_qint8 = np.dtype([(\"qint8\", np.int8, 1)])\n",
      "/usr/local/lib/python3.7/site-packages/tensorboard/compat/tensorflow_stub/dtypes.py:542: FutureWarning: Passing (type, 1) or '1type' as a synonym of type is deprecated; in a future version of numpy, it will be understood as (type, (1,)) / '(1,)type'.\n",
      "  _np_quint8 = np.dtype([(\"quint8\", np.uint8, 1)])\n",
      "/usr/local/lib/python3.7/site-packages/tensorboard/compat/tensorflow_stub/dtypes.py:543: FutureWarning: Passing (type, 1) or '1type' as a synonym of type is deprecated; in a future version of numpy, it will be understood as (type, (1,)) / '(1,)type'.\n",
      "  _np_qint16 = np.dtype([(\"qint16\", np.int16, 1)])\n",
      "/usr/local/lib/python3.7/site-packages/tensorboard/compat/tensorflow_stub/dtypes.py:544: FutureWarning: Passing (type, 1) or '1type' as a synonym of type is deprecated; in a future version of numpy, it will be understood as (type, (1,)) / '(1,)type'.\n",
      "  _np_quint16 = np.dtype([(\"quint16\", np.uint16, 1)])\n",
      "/usr/local/lib/python3.7/site-packages/tensorboard/compat/tensorflow_stub/dtypes.py:545: FutureWarning: Passing (type, 1) or '1type' as a synonym of type is deprecated; in a future version of numpy, it will be understood as (type, (1,)) / '(1,)type'.\n",
      "  _np_qint32 = np.dtype([(\"qint32\", np.int32, 1)])\n",
      "/usr/local/lib/python3.7/site-packages/tensorboard/compat/tensorflow_stub/dtypes.py:550: FutureWarning: Passing (type, 1) or '1type' as a synonym of type is deprecated; in a future version of numpy, it will be understood as (type, (1,)) / '(1,)type'.\n",
      "  np_resource = np.dtype([(\"resource\", np.ubyte, 1)])\n"
     ]
    }
   ],
   "source": [
    "#primero importamos\n",
    "import tensorflow as tf\n",
    "tf.logging.set_verbosity(tf.logging.ERROR)\n",
    "\n",
    "import numpy as np"
   ]
  },
  {
   "cell_type": "markdown",
   "metadata": {},
   "source": [
    "## Set up training data\n",
    "Supervised ML consiste en enconntrar un algoritmo que pueda descifrar dada una entrada y una salida"
   ]
  },
  {
   "cell_type": "code",
   "execution_count": 2,
   "metadata": {},
   "outputs": [
    {
     "name": "stdout",
     "output_type": "stream",
     "text": [
      "-40.0 grados celsius = -40.0 grados fahrenheit\n",
      "-10.0 grados celsius = 14.0 grados fahrenheit\n",
      "0.0 grados celsius = 32.0 grados fahrenheit\n",
      "8.0 grados celsius = 46.0 grados fahrenheit\n",
      "15.0 grados celsius = 59.0 grados fahrenheit\n",
      "22.0 grados celsius = 72.0 grados fahrenheit\n",
      "38.0 grados celsius = 100.0 grados fahrenheit\n"
     ]
    }
   ],
   "source": [
    "celsius = np.array([-40,-10,0,8,15,22,38], dtype=float)\n",
    "fahren = np.array([-40,14,32,46,59,72,100], dtype=float)\n",
    "\n",
    "for i,c in enumerate(celsius):\n",
    "    print('{} grados celsius = {} grados fahrenheit'.format(c,fahren[i]))"
   ]
  },
  {
   "cell_type": "markdown",
   "metadata": {},
   "source": [
    "## Creamos el modelo"
   ]
  },
  {
   "cell_type": "markdown",
   "metadata": {},
   "source": [
    "Vamos a udar el modelo mas simple, una red Dense. Ya que el problema es sencillo, esta red requerira solo una capa, con una neurona.\n",
    "A esta capa la llamaremos l0 y la crearemos instanciando <b>tf.keras.layers.Dense</b>, siguiendo la siguiente configuracion:\n",
    "<ul>\n",
    "    <li>input_shape=[1]: Esto signific qu esta capa tendra un valor simple(?). Esta es la foram de un array de una dimension con un solo miembro. ya que esta es la capa inicial, la forma de la capa de entrada es la del modelo entero.</li>\n",
    "    <li>units=1: Esto significa el numero de neuronas en la capa. El numero de neuronas define cuantas variables internas la capa tiene que aprender para resolver el problema. Ya que esto es una capa final, es tambien el tamaño de la salida del modelo</li>\n",
    "\n",
    "</ul>"
   ]
  },
  {
   "cell_type": "code",
   "execution_count": 3,
   "metadata": {},
   "outputs": [],
   "source": [
    "l0 = tf.keras.layers.Dense(units=1, input_shape=[1])"
   ]
  },
  {
   "cell_type": "markdown",
   "metadata": {},
   "source": [
    "Una vez que la capa esta definida, se debe reunir todo dentro de un modelo. El modelo Sequential toma una lista de capas como argumento, especificando el orden de calculo desde la entrada hasta la salida. En este caso el modelo solo tiene una simple capa l0"
   ]
  },
  {
   "cell_type": "code",
   "execution_count": 4,
   "metadata": {},
   "outputs": [],
   "source": [
    "model = tf.keras.Sequential([l0])"
   ]
  },
  {
   "cell_type": "markdown",
   "metadata": {},
   "source": [
    "Tambien se puede definir las capas dentro de Sequential de la siguiente manera:"
   ]
  },
  {
   "cell_type": "code",
   "execution_count": 5,
   "metadata": {},
   "outputs": [],
   "source": [
    "model = tf.keras.Sequential([\n",
    "    \n",
    "    tf.keras.layers.Dense(units=1, input_shape=[1])\n",
    "])"
   ]
  },
  {
   "cell_type": "markdown",
   "metadata": {},
   "source": [
    "### Compilamos el modelo, con loss y las funciones de optimizacion\n",
    "Antes de entrenar, el modelo debe ser compilado. Para el compilado, el modelo debe tener:\n",
    "<ul>\n",
    "    <li>LOSS FUNCTION: La manera de medir la perdida</li>\n",
    "    <li>OPTIMIZER FUNCTION: La manera de ajustar los valores internos para asi reducir la perdida</li>\n",
    "</ul>"
   ]
  },
  {
   "cell_type": "code",
   "execution_count": 6,
   "metadata": {},
   "outputs": [],
   "source": [
    "model.compile(loss='mean_squared_error',\n",
    "             optimizer=tf.keras.optimizers.Adam(0.1))"
   ]
  },
  {
   "cell_type": "markdown",
   "metadata": {},
   "source": [
    "### Train the model\n",
    "Entrenamos el modelo usando fit, el modelo en este proceso calcula los valores internos, llamados 'weights'. Ya que a inicio los valores de weight son randomicos, la salida final del modelo no sera exacto. "
   ]
  },
  {
   "cell_type": "code",
   "execution_count": 7,
   "metadata": {},
   "outputs": [
    {
     "name": "stdout",
     "output_type": "stream",
     "text": [
      "Entrenamiento finalizado del modelo\n"
     ]
    }
   ],
   "source": [
    "history = model.fit(celsius,fahren,epochs=500, verbose=False)\n",
    "print('Entrenamiento finalizado del modelo')"
   ]
  },
  {
   "cell_type": "markdown",
   "metadata": {},
   "source": [
    "### Desplegamos las estadisticas del entrenamiento\n",
    "El metodo fit devuelve un objeto historia. Podemos usar este objeto para graficar la perdida de nuestro modelo, el cual va bajando despues de cada epoch de entrenamiento. Una perdida grande significa que la prediccion del modelo esta muy lejos del valor real.\n",
    "\n",
    "Para esto usaremos Matplotlib."
   ]
  },
  {
   "cell_type": "code",
   "execution_count": 8,
   "metadata": {},
   "outputs": [
    {
     "data": {
      "text/plain": [
       "<Figure size 640x480 with 1 Axes>"
      ]
     },
     "metadata": {},
     "output_type": "display_data"
    }
   ],
   "source": [
    "import matplotlib.pyplot as plt\n",
    "plt.xlabel('Epoch number')\n",
    "plt.ylabel('Loss magnitude')\n",
    "plt.plot(history.history['loss'])\n",
    "plt.show()"
   ]
  },
  {
   "cell_type": "markdown",
   "metadata": {},
   "source": [
    "## Usamos el modelo para hacer predicciones"
   ]
  },
  {
   "cell_type": "code",
   "execution_count": 9,
   "metadata": {},
   "outputs": [
    {
     "name": "stdout",
     "output_type": "stream",
     "text": [
      "[[211.2704]]\n"
     ]
    }
   ],
   "source": [
    "print(model.predict([100]))"
   ]
  },
  {
   "cell_type": "markdown",
   "metadata": {},
   "source": [
    "consideremos que la respuesta correcta seria 100 * 1.8 + 32 = 212"
   ]
  },
  {
   "cell_type": "markdown",
   "metadata": {},
   "source": [
    "### Vemos los pesos"
   ]
  },
  {
   "cell_type": "code",
   "execution_count": 10,
   "metadata": {},
   "outputs": [
    {
     "name": "stdout",
     "output_type": "stream",
     "text": [
      "estos son lios pesos: [array([[-0.6145531]], dtype=float32), array([0.], dtype=float32)]\n"
     ]
    }
   ],
   "source": [
    "print('estos son lios pesos: {}'.format(l0.get_weights()))"
   ]
  },
  {
   "cell_type": "markdown",
   "metadata": {},
   "source": [
    "## Un modelo mas complejo"
   ]
  },
  {
   "cell_type": "code",
   "execution_count": 12,
   "metadata": {},
   "outputs": [
    {
     "data": {
      "text/plain": [
       "<tensorflow.python.keras.callbacks.History at 0x133a16290>"
      ]
     },
     "execution_count": 12,
     "metadata": {},
     "output_type": "execute_result"
    }
   ],
   "source": [
    "l0 = tf.keras.layers.Dense(units=4, input_shape=[1])\n",
    "l1 = tf.keras.layers.Dense(units=4)\n",
    "l2 = tf.keras.layers.Dense(units=1)\n",
    "model = tf.keras.Sequential([l0,l1,l2])\n",
    "model.compile(loss='mean_squared_error', optimizer=tf.keras.optimizers.Adam(0.1))\n",
    "model.fit(celsius,fahren,epochs=500,verbose=False)"
   ]
  },
  {
   "cell_type": "code",
   "execution_count": 13,
   "metadata": {},
   "outputs": [
    {
     "name": "stdout",
     "output_type": "stream",
     "text": [
      "[[211.74745]]\n",
      "Model predicts that 100 degrees celsius is: [[211.74745]] degrees fahrenheit\n",
      "Estas son las variables l0: [array([[ 0.67072976,  0.10770368,  0.39208537, -0.13136353]],\n",
      "      dtype=float32), array([ 2.9569228, -1.8030908,  2.9558601,  2.5639236], dtype=float32)]\n",
      "Estas son las variables l1: [array([[ 1.0540004 , -0.4673588 ,  0.4149795 ,  0.15241033],\n",
      "       [-0.15746708,  0.72919154, -0.16794378, -0.04951482],\n",
      "       [ 0.58853203, -0.7162816 ,  0.02747226,  0.11803986],\n",
      "       [ 1.0930085 , -0.15655746,  0.5014436 , -0.50798947]],\n",
      "      dtype=float32), array([ 2.9396331, -2.9123015,  2.6468005,  1.5161495], dtype=float32)]\n",
      "Estas son las variables l2: [array([[ 1.3190743 ],\n",
      "       [-1.0971252 ],\n",
      "       [ 1.0221534 ],\n",
      "       [ 0.09436441]], dtype=float32), array([2.9106653], dtype=float32)]\n"
     ]
    }
   ],
   "source": [
    "print(model.predict([100]))\n",
    "print('Model predicts that 100 degrees celsius is: {} degrees fahrenheit'.format(model.predict([100.0])))\n",
    "print('Estas son las variables l0: {}'.format(l0.get_weights()))\n",
    "print('Estas son las variables l1: {}'.format(l1.get_weights()))\n",
    "print('Estas son las variables l2: {}'.format(l2.get_weights()))"
   ]
  },
  {
   "cell_type": "code",
   "execution_count": null,
   "metadata": {},
   "outputs": [],
   "source": []
  }
 ],
 "metadata": {
  "kernelspec": {
   "display_name": "Python 3",
   "language": "python",
   "name": "python3"
  },
  "language_info": {
   "codemirror_mode": {
    "name": "ipython",
    "version": 3
   },
   "file_extension": ".py",
   "mimetype": "text/x-python",
   "name": "python",
   "nbconvert_exporter": "python",
   "pygments_lexer": "ipython3",
   "version": "3.7.4"
  }
 },
 "nbformat": 4,
 "nbformat_minor": 2
}
