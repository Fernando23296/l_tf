{
 "cells": [
  {
   "cell_type": "markdown",
   "metadata": {},
   "source": [
    "# Keras"
   ]
  },
  {
   "cell_type": "code",
   "execution_count": 2,
   "metadata": {},
   "outputs": [
    {
     "name": "stderr",
     "output_type": "stream",
     "text": [
      "/usr/local/lib/python3.7/site-packages/tensorflow/python/framework/dtypes.py:516: FutureWarning: Passing (type, 1) or '1type' as a synonym of type is deprecated; in a future version of numpy, it will be understood as (type, (1,)) / '(1,)type'.\n",
      "  _np_qint8 = np.dtype([(\"qint8\", np.int8, 1)])\n",
      "/usr/local/lib/python3.7/site-packages/tensorflow/python/framework/dtypes.py:517: FutureWarning: Passing (type, 1) or '1type' as a synonym of type is deprecated; in a future version of numpy, it will be understood as (type, (1,)) / '(1,)type'.\n",
      "  _np_quint8 = np.dtype([(\"quint8\", np.uint8, 1)])\n",
      "/usr/local/lib/python3.7/site-packages/tensorflow/python/framework/dtypes.py:518: FutureWarning: Passing (type, 1) or '1type' as a synonym of type is deprecated; in a future version of numpy, it will be understood as (type, (1,)) / '(1,)type'.\n",
      "  _np_qint16 = np.dtype([(\"qint16\", np.int16, 1)])\n",
      "/usr/local/lib/python3.7/site-packages/tensorflow/python/framework/dtypes.py:519: FutureWarning: Passing (type, 1) or '1type' as a synonym of type is deprecated; in a future version of numpy, it will be understood as (type, (1,)) / '(1,)type'.\n",
      "  _np_quint16 = np.dtype([(\"quint16\", np.uint16, 1)])\n",
      "/usr/local/lib/python3.7/site-packages/tensorflow/python/framework/dtypes.py:520: FutureWarning: Passing (type, 1) or '1type' as a synonym of type is deprecated; in a future version of numpy, it will be understood as (type, (1,)) / '(1,)type'.\n",
      "  _np_qint32 = np.dtype([(\"qint32\", np.int32, 1)])\n",
      "/usr/local/lib/python3.7/site-packages/tensorflow/python/framework/dtypes.py:525: FutureWarning: Passing (type, 1) or '1type' as a synonym of type is deprecated; in a future version of numpy, it will be understood as (type, (1,)) / '(1,)type'.\n",
      "  np_resource = np.dtype([(\"resource\", np.ubyte, 1)])\n",
      "/usr/local/lib/python3.7/site-packages/tensorboard/compat/tensorflow_stub/dtypes.py:541: FutureWarning: Passing (type, 1) or '1type' as a synonym of type is deprecated; in a future version of numpy, it will be understood as (type, (1,)) / '(1,)type'.\n",
      "  _np_qint8 = np.dtype([(\"qint8\", np.int8, 1)])\n",
      "/usr/local/lib/python3.7/site-packages/tensorboard/compat/tensorflow_stub/dtypes.py:542: FutureWarning: Passing (type, 1) or '1type' as a synonym of type is deprecated; in a future version of numpy, it will be understood as (type, (1,)) / '(1,)type'.\n",
      "  _np_quint8 = np.dtype([(\"quint8\", np.uint8, 1)])\n",
      "/usr/local/lib/python3.7/site-packages/tensorboard/compat/tensorflow_stub/dtypes.py:543: FutureWarning: Passing (type, 1) or '1type' as a synonym of type is deprecated; in a future version of numpy, it will be understood as (type, (1,)) / '(1,)type'.\n",
      "  _np_qint16 = np.dtype([(\"qint16\", np.int16, 1)])\n",
      "/usr/local/lib/python3.7/site-packages/tensorboard/compat/tensorflow_stub/dtypes.py:544: FutureWarning: Passing (type, 1) or '1type' as a synonym of type is deprecated; in a future version of numpy, it will be understood as (type, (1,)) / '(1,)type'.\n",
      "  _np_quint16 = np.dtype([(\"quint16\", np.uint16, 1)])\n",
      "/usr/local/lib/python3.7/site-packages/tensorboard/compat/tensorflow_stub/dtypes.py:545: FutureWarning: Passing (type, 1) or '1type' as a synonym of type is deprecated; in a future version of numpy, it will be understood as (type, (1,)) / '(1,)type'.\n",
      "  _np_qint32 = np.dtype([(\"qint32\", np.int32, 1)])\n",
      "/usr/local/lib/python3.7/site-packages/tensorboard/compat/tensorflow_stub/dtypes.py:550: FutureWarning: Passing (type, 1) or '1type' as a synonym of type is deprecated; in a future version of numpy, it will be understood as (type, (1,)) / '(1,)type'.\n",
      "  np_resource = np.dtype([(\"resource\", np.ubyte, 1)])\n"
     ]
    }
   ],
   "source": [
    "import tensorflow as tf\n",
    "from sklearn.datasets import load_wine"
   ]
  },
  {
   "cell_type": "code",
   "execution_count": 3,
   "metadata": {},
   "outputs": [],
   "source": [
    "vino = load_wine()"
   ]
  },
  {
   "cell_type": "code",
   "execution_count": 11,
   "metadata": {},
   "outputs": [
    {
     "name": "stdout",
     "output_type": "stream",
     "text": [
      ".. _wine_dataset:\n",
      "\n",
      "Wine recognition dataset\n",
      "------------------------\n",
      "\n",
      "**Data Set Characteristics:**\n",
      "\n",
      "    :Number of Instances: 178 (50 in each of three classes)\n",
      "    :Number of Attributes: 13 numeric, predictive attributes and the class\n",
      "    :Attribute Information:\n",
      " \t\t- Alcohol\n",
      " \t\t- Malic acid\n",
      " \t\t- Ash\n",
      "\t\t- Alcalinity of ash  \n",
      " \t\t- Magnesium\n",
      "\t\t- Total phenols\n",
      " \t\t- Flavanoids\n",
      " \t\t- Nonflavanoid phenols\n",
      " \t\t- Proanthocyanins\n",
      "\t\t- Color intensity\n",
      " \t\t- Hue\n",
      " \t\t- OD280/OD315 of diluted wines\n",
      " \t\t- Proline\n",
      "\n",
      "    - class:\n",
      "            - class_0\n",
      "            - class_1\n",
      "            - class_2\n",
      "\t\t\n",
      "    :Summary Statistics:\n",
      "    \n",
      "    ============================= ==== ===== ======= =====\n",
      "                                   Min   Max   Mean     SD\n",
      "    ============================= ==== ===== ======= =====\n",
      "    Alcohol:                      11.0  14.8    13.0   0.8\n",
      "    Malic Acid:                   0.74  5.80    2.34  1.12\n",
      "    Ash:                          1.36  3.23    2.36  0.27\n",
      "    Alcalinity of Ash:            10.6  30.0    19.5   3.3\n",
      "    Magnesium:                    70.0 162.0    99.7  14.3\n",
      "    Total Phenols:                0.98  3.88    2.29  0.63\n",
      "    Flavanoids:                   0.34  5.08    2.03  1.00\n",
      "    Nonflavanoid Phenols:         0.13  0.66    0.36  0.12\n",
      "    Proanthocyanins:              0.41  3.58    1.59  0.57\n",
      "    Colour Intensity:              1.3  13.0     5.1   2.3\n",
      "    Hue:                          0.48  1.71    0.96  0.23\n",
      "    OD280/OD315 of diluted wines: 1.27  4.00    2.61  0.71\n",
      "    Proline:                       278  1680     746   315\n",
      "    ============================= ==== ===== ======= =====\n",
      "\n",
      "    :Missing Attribute Values: None\n",
      "    :Class Distribution: class_0 (59), class_1 (71), class_2 (48)\n",
      "    :Creator: R.A. Fisher\n",
      "    :Donor: Michael Marshall (MARSHALL%PLU@io.arc.nasa.gov)\n",
      "    :Date: July, 1988\n",
      "\n",
      "This is a copy of UCI ML Wine recognition datasets.\n",
      "https://archive.ics.uci.edu/ml/machine-learning-databases/wine/wine.data\n",
      "\n",
      "The data is the results of a chemical analysis of wines grown in the same\n",
      "region in Italy by three different cultivators. There are thirteen different\n",
      "measurements taken for different constituents found in the three types of\n",
      "wine.\n",
      "\n",
      "Original Owners: \n",
      "\n",
      "Forina, M. et al, PARVUS - \n",
      "An Extendible Package for Data Exploration, Classification and Correlation. \n",
      "Institute of Pharmaceutical and Food Analysis and Technologies,\n",
      "Via Brigata Salerno, 16147 Genoa, Italy.\n",
      "\n",
      "Citation:\n",
      "\n",
      "Lichman, M. (2013). UCI Machine Learning Repository\n",
      "[https://archive.ics.uci.edu/ml]. Irvine, CA: University of California,\n",
      "School of Information and Computer Science. \n",
      "\n",
      ".. topic:: References\n",
      "\n",
      "  (1) S. Aeberhard, D. Coomans and O. de Vel, \n",
      "  Comparison of Classifiers in High Dimensional Settings, \n",
      "  Tech. Rep. no. 92-02, (1992), Dept. of Computer Science and Dept. of  \n",
      "  Mathematics and Statistics, James Cook University of North Queensland. \n",
      "  (Also submitted to Technometrics). \n",
      "\n",
      "  The data was used with many others for comparing various \n",
      "  classifiers. The classes are separable, though only RDA \n",
      "  has achieved 100% correct classification. \n",
      "  (RDA : 100%, QDA 99.4%, LDA 98.9%, 1NN 96.1% (z-transformed data)) \n",
      "  (All results using the leave-one-out technique) \n",
      "\n",
      "  (2) S. Aeberhard, D. Coomans and O. de Vel, \n",
      "  \"THE CLASSIFICATION PERFORMANCE OF RDA\" \n",
      "  Tech. Rep. no. 92-01, (1992), Dept. of Computer Science and Dept. of \n",
      "  Mathematics and Statistics, James Cook University of North Queensland. \n",
      "  (Also submitted to Journal of Chemometrics).\n",
      "\n"
     ]
    }
   ],
   "source": [
    "print(vino['DESCR'])"
   ]
  },
  {
   "cell_type": "code",
   "execution_count": 12,
   "metadata": {},
   "outputs": [],
   "source": [
    "caracteristicas = vino['data']\n",
    "objetivo = vino['target']"
   ]
  },
  {
   "cell_type": "code",
   "execution_count": 14,
   "metadata": {},
   "outputs": [],
   "source": [
    "from sklearn.model_selection import train_test_split"
   ]
  },
  {
   "cell_type": "code",
   "execution_count": 15,
   "metadata": {},
   "outputs": [],
   "source": [
    "X_train, X_test, y_train, y_test = train_test_split(caracteristicas, objetivo, test_size=0.3)"
   ]
  },
  {
   "cell_type": "code",
   "execution_count": 16,
   "metadata": {},
   "outputs": [],
   "source": [
    "#vamos a normalizar\n",
    "from sklearn.preprocessing import MinMaxScaler"
   ]
  },
  {
   "cell_type": "code",
   "execution_count": 17,
   "metadata": {},
   "outputs": [],
   "source": [
    "normalizador = MinMaxScaler()"
   ]
  },
  {
   "cell_type": "code",
   "execution_count": 18,
   "metadata": {},
   "outputs": [],
   "source": [
    "X_train_normalizado = normalizador.fit_transform(X_train)\n",
    "X_test_normalizado = normalizador.transform(X_test)"
   ]
  },
  {
   "cell_type": "code",
   "execution_count": 19,
   "metadata": {},
   "outputs": [],
   "source": [
    "from tensorflow.contrib.keras import models, layers, losses, optimizers, metrics, activations"
   ]
  },
  {
   "cell_type": "code",
   "execution_count": 20,
   "metadata": {},
   "outputs": [],
   "source": [
    "modelo = models.Sequential()"
   ]
  },
  {
   "cell_type": "code",
   "execution_count": 21,
   "metadata": {},
   "outputs": [
    {
     "name": "stdout",
     "output_type": "stream",
     "text": [
      "WARNING:tensorflow:From /usr/local/lib/python3.7/site-packages/tensorflow/python/ops/init_ops.py:1251: calling VarianceScaling.__init__ (from tensorflow.python.ops.init_ops) with dtype is deprecated and will be removed in a future version.\n",
      "Instructions for updating:\n",
      "Call initializer instance with the dtype argument instead of passing it to the constructor\n"
     ]
    }
   ],
   "source": [
    "modelo.add(layers.Dense(units=13, input_dim=13, activation='relu'))"
   ]
  },
  {
   "cell_type": "code",
   "execution_count": 22,
   "metadata": {},
   "outputs": [],
   "source": [
    "modelo.add(layers.Dense(units=13, activation='relu'))\n",
    "modelo.add(layers.Dense(units=13, activation='relu'))"
   ]
  },
  {
   "cell_type": "code",
   "execution_count": 23,
   "metadata": {},
   "outputs": [],
   "source": [
    "modelo.add(layers.Dense(units=3, activation='softmax')) #units = 3 porque solon hay 3 tipos de virus 0,1,2"
   ]
  },
  {
   "cell_type": "code",
   "execution_count": 24,
   "metadata": {},
   "outputs": [],
   "source": [
    "modelo.compile(optimizer='adam', loss='sparse_categorical_crossentropy', metrics=['accuracy'])"
   ]
  },
  {
   "cell_type": "code",
   "execution_count": 25,
   "metadata": {},
   "outputs": [
    {
     "name": "stdout",
     "output_type": "stream",
     "text": [
      "Epoch 1/60\n",
      "124/124 [==============================] - 0s 986us/sample - loss: 1.2997 - acc: 0.3065\n",
      "Epoch 2/60\n",
      "124/124 [==============================] - 0s 228us/sample - loss: 1.2572 - acc: 0.4435\n",
      "Epoch 3/60\n",
      "124/124 [==============================] - 0s 301us/sample - loss: 1.2206 - acc: 0.4516\n",
      "Epoch 4/60\n",
      "124/124 [==============================] - 0s 451us/sample - loss: 1.1899 - acc: 0.4435\n",
      "Epoch 5/60\n",
      "124/124 [==============================] - 0s 357us/sample - loss: 1.1641 - acc: 0.4355\n",
      "Epoch 6/60\n",
      "124/124 [==============================] - 0s 298us/sample - loss: 1.1403 - acc: 0.4274\n",
      "Epoch 7/60\n",
      "124/124 [==============================] - 0s 133us/sample - loss: 1.1194 - acc: 0.4032\n",
      "Epoch 8/60\n",
      "124/124 [==============================] - 0s 126us/sample - loss: 1.1012 - acc: 0.3952\n",
      "Epoch 9/60\n",
      "124/124 [==============================] - 0s 110us/sample - loss: 1.0828 - acc: 0.3952\n",
      "Epoch 10/60\n",
      "124/124 [==============================] - 0s 141us/sample - loss: 1.0681 - acc: 0.3952\n",
      "Epoch 11/60\n",
      "124/124 [==============================] - 0s 143us/sample - loss: 1.0535 - acc: 0.3952\n",
      "Epoch 12/60\n",
      "124/124 [==============================] - 0s 189us/sample - loss: 1.0399 - acc: 0.3952\n",
      "Epoch 13/60\n",
      "124/124 [==============================] - 0s 168us/sample - loss: 1.0271 - acc: 0.4032\n",
      "Epoch 14/60\n",
      "124/124 [==============================] - 0s 116us/sample - loss: 1.0132 - acc: 0.4194\n",
      "Epoch 15/60\n",
      "124/124 [==============================] - 0s 109us/sample - loss: 1.0004 - acc: 0.4516\n",
      "Epoch 16/60\n",
      "124/124 [==============================] - 0s 149us/sample - loss: 0.9860 - acc: 0.4677\n",
      "Epoch 17/60\n",
      "124/124 [==============================] - 0s 116us/sample - loss: 0.9713 - acc: 0.5000\n",
      "Epoch 18/60\n",
      "124/124 [==============================] - 0s 165us/sample - loss: 0.9562 - acc: 0.5565\n",
      "Epoch 19/60\n",
      "124/124 [==============================] - 0s 105us/sample - loss: 0.9404 - acc: 0.5968\n",
      "Epoch 20/60\n",
      "124/124 [==============================] - 0s 195us/sample - loss: 0.9239 - acc: 0.6694\n",
      "Epoch 21/60\n",
      "124/124 [==============================] - 0s 155us/sample - loss: 0.9059 - acc: 0.6935\n",
      "Epoch 22/60\n",
      "124/124 [==============================] - 0s 401us/sample - loss: 0.8869 - acc: 0.7177\n",
      "Epoch 23/60\n",
      "124/124 [==============================] - 0s 277us/sample - loss: 0.8674 - acc: 0.7419\n",
      "Epoch 24/60\n",
      "124/124 [==============================] - 0s 135us/sample - loss: 0.8467 - acc: 0.7661\n",
      "Epoch 25/60\n",
      "124/124 [==============================] - 0s 156us/sample - loss: 0.8243 - acc: 0.7661\n",
      "Epoch 26/60\n",
      "124/124 [==============================] - 0s 183us/sample - loss: 0.7995 - acc: 0.7823\n",
      "Epoch 27/60\n",
      "124/124 [==============================] - 0s 106us/sample - loss: 0.7738 - acc: 0.7823\n",
      "Epoch 28/60\n",
      "124/124 [==============================] - 0s 188us/sample - loss: 0.7475 - acc: 0.8145\n",
      "Epoch 29/60\n",
      "124/124 [==============================] - 0s 293us/sample - loss: 0.7205 - acc: 0.8145\n",
      "Epoch 30/60\n",
      "124/124 [==============================] - 0s 145us/sample - loss: 0.6931 - acc: 0.8145\n",
      "Epoch 31/60\n",
      "124/124 [==============================] - 0s 143us/sample - loss: 0.6655 - acc: 0.8306\n",
      "Epoch 32/60\n",
      "124/124 [==============================] - 0s 168us/sample - loss: 0.6383 - acc: 0.8468\n",
      "Epoch 33/60\n",
      "124/124 [==============================] - 0s 246us/sample - loss: 0.6104 - acc: 0.8548\n",
      "Epoch 34/60\n",
      "124/124 [==============================] - 0s 105us/sample - loss: 0.5830 - acc: 0.8468\n",
      "Epoch 35/60\n",
      "124/124 [==============================] - 0s 158us/sample - loss: 0.5550 - acc: 0.8710\n",
      "Epoch 36/60\n",
      "124/124 [==============================] - 0s 119us/sample - loss: 0.5289 - acc: 0.8790\n",
      "Epoch 37/60\n",
      "124/124 [==============================] - 0s 131us/sample - loss: 0.5019 - acc: 0.8871\n",
      "Epoch 38/60\n",
      "124/124 [==============================] - 0s 281us/sample - loss: 0.4765 - acc: 0.8871\n",
      "Epoch 39/60\n",
      "124/124 [==============================] - 0s 170us/sample - loss: 0.4529 - acc: 0.9032\n",
      "Epoch 40/60\n",
      "124/124 [==============================] - 0s 193us/sample - loss: 0.4309 - acc: 0.9113\n",
      "Epoch 41/60\n",
      "124/124 [==============================] - 0s 1ms/sample - loss: 0.4110 - acc: 0.9194 0s - loss: 0.4329 - acc: 0.937\n",
      "Epoch 42/60\n",
      "124/124 [==============================] - 0s 319us/sample - loss: 0.3901 - acc: 0.9194\n",
      "Epoch 43/60\n",
      "124/124 [==============================] - 0s 287us/sample - loss: 0.3720 - acc: 0.9194\n",
      "Epoch 44/60\n",
      "124/124 [==============================] - 0s 122us/sample - loss: 0.3556 - acc: 0.9194\n",
      "Epoch 45/60\n",
      "124/124 [==============================] - 0s 131us/sample - loss: 0.3418 - acc: 0.9274\n",
      "Epoch 46/60\n",
      "124/124 [==============================] - 0s 133us/sample - loss: 0.3266 - acc: 0.9355\n",
      "Epoch 47/60\n",
      "124/124 [==============================] - 0s 186us/sample - loss: 0.3132 - acc: 0.9435\n",
      "Epoch 48/60\n",
      "124/124 [==============================] - 0s 199us/sample - loss: 0.3018 - acc: 0.9435\n",
      "Epoch 49/60\n",
      "124/124 [==============================] - 0s 115us/sample - loss: 0.2916 - acc: 0.9435\n",
      "Epoch 50/60\n",
      "124/124 [==============================] - 0s 130us/sample - loss: 0.2798 - acc: 0.9435\n",
      "Epoch 51/60\n",
      "124/124 [==============================] - 0s 114us/sample - loss: 0.2706 - acc: 0.9435\n",
      "Epoch 52/60\n",
      "124/124 [==============================] - 0s 128us/sample - loss: 0.2629 - acc: 0.9435\n",
      "Epoch 53/60\n",
      "124/124 [==============================] - 0s 163us/sample - loss: 0.2540 - acc: 0.9435\n",
      "Epoch 54/60\n",
      "124/124 [==============================] - 0s 100us/sample - loss: 0.2471 - acc: 0.9435\n",
      "Epoch 55/60\n",
      "124/124 [==============================] - 0s 307us/sample - loss: 0.2414 - acc: 0.9435\n",
      "Epoch 56/60\n",
      "124/124 [==============================] - 0s 120us/sample - loss: 0.2344 - acc: 0.9435\n",
      "Epoch 57/60\n",
      "124/124 [==============================] - 0s 150us/sample - loss: 0.2268 - acc: 0.9435\n",
      "Epoch 58/60\n",
      "124/124 [==============================] - 0s 268us/sample - loss: 0.2207 - acc: 0.9435\n",
      "Epoch 59/60\n",
      "124/124 [==============================] - 0s 290us/sample - loss: 0.2155 - acc: 0.9435\n",
      "Epoch 60/60\n",
      "124/124 [==============================] - 0s 173us/sample - loss: 0.2107 - acc: 0.9435\n"
     ]
    },
    {
     "data": {
      "text/plain": [
       "<tensorflow.python.keras.callbacks.History at 0x12f794190>"
      ]
     },
     "execution_count": 25,
     "metadata": {},
     "output_type": "execute_result"
    }
   ],
   "source": [
    "modelo.fit(X_train_normalizado, y_train, epochs=60)"
   ]
  },
  {
   "cell_type": "code",
   "execution_count": 26,
   "metadata": {},
   "outputs": [],
   "source": [
    "predicciones = modelo.predict_classes(X_test_normalizado)"
   ]
  },
  {
   "cell_type": "code",
   "execution_count": 27,
   "metadata": {},
   "outputs": [
    {
     "name": "stdout",
     "output_type": "stream",
     "text": [
      "              precision    recall  f1-score   support\n",
      "\n",
      "           0       1.00      0.94      0.97        16\n",
      "           1       0.95      1.00      0.97        19\n",
      "           2       1.00      1.00      1.00        19\n",
      "\n",
      "    accuracy                           0.98        54\n",
      "   macro avg       0.98      0.98      0.98        54\n",
      "weighted avg       0.98      0.98      0.98        54\n",
      "\n"
     ]
    }
   ],
   "source": [
    "from sklearn.metrics import classification_report\n",
    "print(classification_report(y_test,predicciones))"
   ]
  },
  {
   "cell_type": "code",
   "execution_count": null,
   "metadata": {},
   "outputs": [],
   "source": []
  }
 ],
 "metadata": {
  "kernelspec": {
   "display_name": "Python 3",
   "language": "python",
   "name": "python3"
  },
  "language_info": {
   "codemirror_mode": {
    "name": "ipython",
    "version": 3
   },
   "file_extension": ".py",
   "mimetype": "text/x-python",
   "name": "python",
   "nbconvert_exporter": "python",
   "pygments_lexer": "ipython3",
   "version": "3.7.4"
  }
 },
 "nbformat": 4,
 "nbformat_minor": 2
}
