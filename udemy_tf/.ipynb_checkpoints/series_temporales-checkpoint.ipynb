{
 "cells": [
  {
   "cell_type": "markdown",
   "metadata": {},
   "source": [
    "# RNN - Series Temporales"
   ]
  },
  {
   "cell_type": "code",
   "execution_count": 1,
   "metadata": {},
   "outputs": [
    {
     "name": "stderr",
     "output_type": "stream",
     "text": [
      "/usr/local/lib/python3.7/site-packages/tensorflow/python/framework/dtypes.py:516: FutureWarning: Passing (type, 1) or '1type' as a synonym of type is deprecated; in a future version of numpy, it will be understood as (type, (1,)) / '(1,)type'.\n",
      "  _np_qint8 = np.dtype([(\"qint8\", np.int8, 1)])\n",
      "/usr/local/lib/python3.7/site-packages/tensorflow/python/framework/dtypes.py:517: FutureWarning: Passing (type, 1) or '1type' as a synonym of type is deprecated; in a future version of numpy, it will be understood as (type, (1,)) / '(1,)type'.\n",
      "  _np_quint8 = np.dtype([(\"quint8\", np.uint8, 1)])\n",
      "/usr/local/lib/python3.7/site-packages/tensorflow/python/framework/dtypes.py:518: FutureWarning: Passing (type, 1) or '1type' as a synonym of type is deprecated; in a future version of numpy, it will be understood as (type, (1,)) / '(1,)type'.\n",
      "  _np_qint16 = np.dtype([(\"qint16\", np.int16, 1)])\n",
      "/usr/local/lib/python3.7/site-packages/tensorflow/python/framework/dtypes.py:519: FutureWarning: Passing (type, 1) or '1type' as a synonym of type is deprecated; in a future version of numpy, it will be understood as (type, (1,)) / '(1,)type'.\n",
      "  _np_quint16 = np.dtype([(\"quint16\", np.uint16, 1)])\n",
      "/usr/local/lib/python3.7/site-packages/tensorflow/python/framework/dtypes.py:520: FutureWarning: Passing (type, 1) or '1type' as a synonym of type is deprecated; in a future version of numpy, it will be understood as (type, (1,)) / '(1,)type'.\n",
      "  _np_qint32 = np.dtype([(\"qint32\", np.int32, 1)])\n",
      "/usr/local/lib/python3.7/site-packages/tensorflow/python/framework/dtypes.py:525: FutureWarning: Passing (type, 1) or '1type' as a synonym of type is deprecated; in a future version of numpy, it will be understood as (type, (1,)) / '(1,)type'.\n",
      "  np_resource = np.dtype([(\"resource\", np.ubyte, 1)])\n",
      "/usr/local/lib/python3.7/site-packages/tensorboard/compat/tensorflow_stub/dtypes.py:541: FutureWarning: Passing (type, 1) or '1type' as a synonym of type is deprecated; in a future version of numpy, it will be understood as (type, (1,)) / '(1,)type'.\n",
      "  _np_qint8 = np.dtype([(\"qint8\", np.int8, 1)])\n",
      "/usr/local/lib/python3.7/site-packages/tensorboard/compat/tensorflow_stub/dtypes.py:542: FutureWarning: Passing (type, 1) or '1type' as a synonym of type is deprecated; in a future version of numpy, it will be understood as (type, (1,)) / '(1,)type'.\n",
      "  _np_quint8 = np.dtype([(\"quint8\", np.uint8, 1)])\n",
      "/usr/local/lib/python3.7/site-packages/tensorboard/compat/tensorflow_stub/dtypes.py:543: FutureWarning: Passing (type, 1) or '1type' as a synonym of type is deprecated; in a future version of numpy, it will be understood as (type, (1,)) / '(1,)type'.\n",
      "  _np_qint16 = np.dtype([(\"qint16\", np.int16, 1)])\n",
      "/usr/local/lib/python3.7/site-packages/tensorboard/compat/tensorflow_stub/dtypes.py:544: FutureWarning: Passing (type, 1) or '1type' as a synonym of type is deprecated; in a future version of numpy, it will be understood as (type, (1,)) / '(1,)type'.\n",
      "  _np_quint16 = np.dtype([(\"quint16\", np.uint16, 1)])\n",
      "/usr/local/lib/python3.7/site-packages/tensorboard/compat/tensorflow_stub/dtypes.py:545: FutureWarning: Passing (type, 1) or '1type' as a synonym of type is deprecated; in a future version of numpy, it will be understood as (type, (1,)) / '(1,)type'.\n",
      "  _np_qint32 = np.dtype([(\"qint32\", np.int32, 1)])\n",
      "/usr/local/lib/python3.7/site-packages/tensorboard/compat/tensorflow_stub/dtypes.py:550: FutureWarning: Passing (type, 1) or '1type' as a synonym of type is deprecated; in a future version of numpy, it will be understood as (type, (1,)) / '(1,)type'.\n",
      "  np_resource = np.dtype([(\"resource\", np.ubyte, 1)])\n"
     ]
    }
   ],
   "source": [
    "import numpy as np\n",
    "import pandas as pd\n",
    "import tensorflow as tf\n",
    "import matplotlib.pyplot as plt"
   ]
  },
  {
   "cell_type": "code",
   "execution_count": 2,
   "metadata": {},
   "outputs": [
    {
     "name": "stdout",
     "output_type": "stream",
     "text": [
      "\u001b[34mMNIST\u001b[m\u001b[m/\r\n",
      "Numpy.ipynb\r\n",
      "TensorFlow.ipynb\r\n",
      "Variables_and_Placeholders.ipynb\r\n",
      "checkpoint\r\n",
      "clasificacion_tf.ipynb\r\n",
      "cnn.ipynb\r\n",
      "grafo.png\r\n",
      "grafos.ipynb\r\n",
      "grafos_por_defecto.ipynb\r\n",
      "ingresos.csv\r\n",
      "matplotlib.ipynb\r\n",
      "modelo_series_temporales.data-00000-of-00001\r\n",
      "modelo_series_temporales.index\r\n",
      "modelo_series_temporales.meta\r\n",
      "pandas.ipynb\r\n",
      "personas.csv\r\n",
      "precios-casas.csv\r\n",
      "produccion-leche.csv\r\n",
      "red_neuronal.ipynb\r\n",
      "regresion_lineal_tf.ipynb\r\n",
      "regresion_lineal_tf2.ipynb\r\n",
      "regresion_tf.ipynb\r\n",
      "rnn.ipynb\r\n",
      "scikitlearn.ipynb\r\n",
      "series_temporales.ipynb\r\n",
      "variables_placeholders.ipynb\r\n"
     ]
    }
   ],
   "source": [
    "ls"
   ]
  },
  {
   "cell_type": "code",
   "execution_count": 3,
   "metadata": {},
   "outputs": [],
   "source": [
    "leche = pd.read_csv('produccion-leche.csv',index_col='Month')"
   ]
  },
  {
   "cell_type": "code",
   "execution_count": 4,
   "metadata": {},
   "outputs": [
    {
     "data": {
      "text/html": [
       "<div>\n",
       "<style scoped>\n",
       "    .dataframe tbody tr th:only-of-type {\n",
       "        vertical-align: middle;\n",
       "    }\n",
       "\n",
       "    .dataframe tbody tr th {\n",
       "        vertical-align: top;\n",
       "    }\n",
       "\n",
       "    .dataframe thead th {\n",
       "        text-align: right;\n",
       "    }\n",
       "</style>\n",
       "<table border=\"1\" class=\"dataframe\">\n",
       "  <thead>\n",
       "    <tr style=\"text-align: right;\">\n",
       "      <th></th>\n",
       "      <th>Milk Production</th>\n",
       "    </tr>\n",
       "    <tr>\n",
       "      <th>Month</th>\n",
       "      <th></th>\n",
       "    </tr>\n",
       "  </thead>\n",
       "  <tbody>\n",
       "    <tr>\n",
       "      <td>1962-01-01 01:00:00</td>\n",
       "      <td>589.0</td>\n",
       "    </tr>\n",
       "    <tr>\n",
       "      <td>1962-02-01 01:00:00</td>\n",
       "      <td>561.0</td>\n",
       "    </tr>\n",
       "    <tr>\n",
       "      <td>1962-03-01 01:00:00</td>\n",
       "      <td>640.0</td>\n",
       "    </tr>\n",
       "    <tr>\n",
       "      <td>1962-04-01 01:00:00</td>\n",
       "      <td>656.0</td>\n",
       "    </tr>\n",
       "    <tr>\n",
       "      <td>1962-05-01 01:00:00</td>\n",
       "      <td>727.0</td>\n",
       "    </tr>\n",
       "  </tbody>\n",
       "</table>\n",
       "</div>"
      ],
      "text/plain": [
       "                     Milk Production\n",
       "Month                               \n",
       "1962-01-01 01:00:00            589.0\n",
       "1962-02-01 01:00:00            561.0\n",
       "1962-03-01 01:00:00            640.0\n",
       "1962-04-01 01:00:00            656.0\n",
       "1962-05-01 01:00:00            727.0"
      ]
     },
     "execution_count": 4,
     "metadata": {},
     "output_type": "execute_result"
    }
   ],
   "source": [
    "leche.head()"
   ]
  },
  {
   "cell_type": "code",
   "execution_count": 5,
   "metadata": {},
   "outputs": [
    {
     "name": "stdout",
     "output_type": "stream",
     "text": [
      "<class 'pandas.core.frame.DataFrame'>\n",
      "Index: 168 entries, 1962-01-01 01:00:00 to 1975-12-01 01:00:00\n",
      "Data columns (total 1 columns):\n",
      "Milk Production    168 non-null float64\n",
      "dtypes: float64(1)\n",
      "memory usage: 2.6+ KB\n"
     ]
    }
   ],
   "source": [
    "leche.info()"
   ]
  },
  {
   "cell_type": "code",
   "execution_count": 6,
   "metadata": {},
   "outputs": [
    {
     "data": {
      "text/plain": [
       "<matplotlib.axes._subplots.AxesSubplot at 0x12b42e790>"
      ]
     },
     "execution_count": 6,
     "metadata": {},
     "output_type": "execute_result"
    },
    {
     "data": {
      "image/png": "[encoded data removed]",
      "text/plain": [
       "<Figure size 432x288 with 1 Axes>"
      ]
     },
     "metadata": {
      "needs_background": "light"
     },
     "output_type": "display_data"
    }
   ],
   "source": [
    "leche.plot()"
   ]
  },
  {
   "cell_type": "code",
   "execution_count": 7,
   "metadata": {},
   "outputs": [],
   "source": [
    "#dividimos el dataset en train y test\n",
    "conjunto_entrenamiento = leche.head(150)\n",
    "conjunto_pruebas = leche.tail(18)"
   ]
  },
  {
   "cell_type": "code",
   "execution_count": 8,
   "metadata": {},
   "outputs": [],
   "source": [
    "from sklearn.preprocessing import MinMaxScaler\n",
    "normalizacion = MinMaxScaler()\n",
    "entrenamiento_normalizado = normalizacion.fit_transform(conjunto_entrenamiento)\n",
    "pruebas_normalizado = normalizacion.transform(conjunto_pruebas)"
   ]
  },
  {
   "cell_type": "code",
   "execution_count": 9,
   "metadata": {},
   "outputs": [
    {
     "data": {
      "text/plain": [
       "array([[0.85336538],\n",
       "       [0.75480769],\n",
       "       [0.62980769],\n",
       "       [0.62259615],\n",
       "       [0.52884615],\n",
       "       [0.625     ],\n",
       "       [0.67548077],\n",
       "       [0.55048077],\n",
       "       [0.81490385],\n",
       "       [0.84134615],\n",
       "       [0.99278846],\n",
       "       [0.92307692],\n",
       "       [0.82451923],\n",
       "       [0.73317308],\n",
       "       [0.63461538],\n",
       "       [0.65865385],\n",
       "       [0.58653846],\n",
       "       [0.69711538]])"
      ]
     },
     "execution_count": 9,
     "metadata": {},
     "output_type": "execute_result"
    }
   ],
   "source": [
    "pruebas_normalizado"
   ]
  },
  {
   "cell_type": "code",
   "execution_count": 10,
   "metadata": {},
   "outputs": [],
   "source": [
    "#creamos una funcion para crear lotes\n",
    "def lotes(datos_entrenamiento, tamaño_lote,pasos):\n",
    "    comienzo = np.random.randint(0, len(datos_entrenamiento)-pasos)\n",
    "    lote_y = np.array(datos_entrenamiento[comienzo:comienzo+pasos+1]).reshape(1,pasos+1)\n",
    "    return lote_y[:,:-1].reshape(-1,pasos,1),lote_y[:,1:].reshape(-1,pasos,1)"
   ]
  },
  {
   "cell_type": "code",
   "execution_count": 11,
   "metadata": {},
   "outputs": [],
   "source": [
    "numero_entradas = 1\n",
    "numero_pasos = 18\n",
    "numero_neuronas = 120\n",
    "numero_salidas = 1\n",
    "tasa_aprendizaje = 0.001\n",
    "numero_iteraciones_entrenamiento = 5000\n",
    "tamaño_lote = 1"
   ]
  },
  {
   "cell_type": "code",
   "execution_count": 12,
   "metadata": {},
   "outputs": [],
   "source": [
    "X = tf.placeholder(tf.float32,[None, numero_pasos, numero_entradas])\n",
    "y = tf.placeholder(tf.float32,[None, numero_pasos, numero_salidas])"
   ]
  },
  {
   "cell_type": "code",
   "execution_count": 13,
   "metadata": {},
   "outputs": [
    {
     "name": "stdout",
     "output_type": "stream",
     "text": [
      "WARNING:tensorflow:\n",
      "The TensorFlow contrib module will not be included in TensorFlow 2.0.\n",
      "For more information, please see:\n",
      "  * https://github.com/tensorflow/community/blob/master/rfcs/20180907-contrib-sunset.md\n",
      "  * https://github.com/tensorflow/addons\n",
      "  * https://github.com/tensorflow/io (for I/O related ops)\n",
      "If you depend on functionality not listed there, please file an issue.\n",
      "\n",
      "WARNING:tensorflow:From <ipython-input-13-48b948d7b2da>:1: BasicLSTMCell.__init__ (from tensorflow.python.ops.rnn_cell_impl) is deprecated and will be removed in a future version.\n",
      "Instructions for updating:\n",
      "This class is equivalent as tf.keras.layers.LSTMCell, and will be replaced by that in Tensorflow 2.0.\n"
     ]
    }
   ],
   "source": [
    "capa = tf.contrib.rnn.OutputProjectionWrapper(tf.contrib.rnn.BasicLSTMCell(num_units=numero_neuronas, activation=tf.nn.relu),output_size=numero_salidas)"
   ]
  },
  {
   "cell_type": "code",
   "execution_count": 14,
   "metadata": {},
   "outputs": [
    {
     "name": "stdout",
     "output_type": "stream",
     "text": [
      "WARNING:tensorflow:From <ipython-input-14-486058c07a3c>:1: dynamic_rnn (from tensorflow.python.ops.rnn) is deprecated and will be removed in a future version.\n",
      "Instructions for updating:\n",
      "Please use `keras.layers.RNN(cell)`, which is equivalent to this API\n",
      "WARNING:tensorflow:Entity <bound method OutputProjectionWrapper.call of <tensorflow.contrib.rnn.python.ops.core_rnn_cell.OutputProjectionWrapper object at 0x12de68390>> could not be transformed and will be executed as-is. Please report this to the AutgoGraph team. When filing the bug, set the verbosity to 10 (on Linux, `export AUTOGRAPH_VERBOSITY=10`) and attach the full output. Cause: converting <bound method OutputProjectionWrapper.call of <tensorflow.contrib.rnn.python.ops.core_rnn_cell.OutputProjectionWrapper object at 0x12de68390>>: AssertionError: Bad argument number for Name: 3, expecting 4\n",
      "WARNING: Entity <bound method OutputProjectionWrapper.call of <tensorflow.contrib.rnn.python.ops.core_rnn_cell.OutputProjectionWrapper object at 0x12de68390>> could not be transformed and will be executed as-is. Please report this to the AutgoGraph team. When filing the bug, set the verbosity to 10 (on Linux, `export AUTOGRAPH_VERBOSITY=10`) and attach the full output. Cause: converting <bound method OutputProjectionWrapper.call of <tensorflow.contrib.rnn.python.ops.core_rnn_cell.OutputProjectionWrapper object at 0x12de68390>>: AssertionError: Bad argument number for Name: 3, expecting 4\n",
      "WARNING:tensorflow:From /usr/local/lib/python3.7/site-packages/tensorflow/python/ops/init_ops.py:1251: calling VarianceScaling.__init__ (from tensorflow.python.ops.init_ops) with dtype is deprecated and will be removed in a future version.\n",
      "Instructions for updating:\n",
      "Call initializer instance with the dtype argument instead of passing it to the constructor\n",
      "WARNING:tensorflow:From /usr/local/lib/python3.7/site-packages/tensorflow/python/ops/rnn_cell_impl.py:738: calling Zeros.__init__ (from tensorflow.python.ops.init_ops) with dtype is deprecated and will be removed in a future version.\n",
      "Instructions for updating:\n",
      "Call initializer instance with the dtype argument instead of passing it to the constructor\n",
      "WARNING:tensorflow:Entity <bound method BasicLSTMCell.call of <tensorflow.python.ops.rnn_cell_impl.BasicLSTMCell object at 0x12b4588d0>> could not be transformed and will be executed as-is. Please report this to the AutgoGraph team. When filing the bug, set the verbosity to 10 (on Linux, `export AUTOGRAPH_VERBOSITY=10`) and attach the full output. Cause: converting <bound method BasicLSTMCell.call of <tensorflow.python.ops.rnn_cell_impl.BasicLSTMCell object at 0x12b4588d0>>: AssertionError: Bad argument number for Name: 3, expecting 4\n",
      "WARNING: Entity <bound method BasicLSTMCell.call of <tensorflow.python.ops.rnn_cell_impl.BasicLSTMCell object at 0x12b4588d0>> could not be transformed and will be executed as-is. Please report this to the AutgoGraph team. When filing the bug, set the verbosity to 10 (on Linux, `export AUTOGRAPH_VERBOSITY=10`) and attach the full output. Cause: converting <bound method BasicLSTMCell.call of <tensorflow.python.ops.rnn_cell_impl.BasicLSTMCell object at 0x12b4588d0>>: AssertionError: Bad argument number for Name: 3, expecting 4\n",
      "WARNING:tensorflow:From /usr/local/lib/python3.7/site-packages/tensorflow/contrib/rnn/python/ops/core_rnn_cell.py:104: calling Constant.__init__ (from tensorflow.python.ops.init_ops) with dtype is deprecated and will be removed in a future version.\n",
      "Instructions for updating:\n",
      "Call initializer instance with the dtype argument instead of passing it to the constructor\n"
     ]
    }
   ],
   "source": [
    "salidas, estados = tf.nn.dynamic_rnn(capa,X,dtype=tf.float32)"
   ]
  },
  {
   "cell_type": "code",
   "execution_count": 15,
   "metadata": {},
   "outputs": [],
   "source": [
    "funcion_error = tf.reduce_mean(tf.square(salidas-y))\n",
    "optimizador = tf.train.AdamOptimizer(learning_rate = tasa_aprendizaje)\n",
    "entrenamiento = optimizador.minimize(funcion_error)"
   ]
  },
  {
   "cell_type": "code",
   "execution_count": 16,
   "metadata": {},
   "outputs": [],
   "source": [
    "init = tf.global_variables_initializer()\n",
    "saver = tf.train.Saver()"
   ]
  },
  {
   "cell_type": "code",
   "execution_count": 17,
   "metadata": {},
   "outputs": [
    {
     "name": "stdout",
     "output_type": "stream",
     "text": [
      "0 \t Error 0.1044884\n",
      "100 \t Error 0.01656607\n",
      "200 \t Error 0.014463138\n",
      "300 \t Error 0.0136051895\n",
      "400 \t Error 0.013762265\n",
      "500 \t Error 0.012013193\n",
      "600 \t Error 0.012659024\n",
      "700 \t Error 0.00740857\n",
      "800 \t Error 0.0068008294\n",
      "900 \t Error 0.007197989\n",
      "1000 \t Error 0.006566728\n",
      "1100 \t Error 0.011446954\n",
      "1200 \t Error 0.003470093\n",
      "1300 \t Error 0.007005901\n",
      "1400 \t Error 0.0064480295\n",
      "1500 \t Error 0.005834493\n",
      "1600 \t Error 0.004996279\n",
      "1700 \t Error 0.0052887583\n",
      "1800 \t Error 0.0043183803\n",
      "1900 \t Error 0.004965665\n",
      "2000 \t Error 0.0047700624\n",
      "2100 \t Error 0.010585307\n",
      "2200 \t Error 0.005315627\n",
      "2300 \t Error 0.0050965194\n",
      "2400 \t Error 0.0069281\n",
      "2500 \t Error 0.005057825\n",
      "2600 \t Error 0.004697413\n",
      "2700 \t Error 0.0069097043\n",
      "2800 \t Error 0.008173476\n",
      "2900 \t Error 0.0017410059\n",
      "3000 \t Error 0.004009789\n",
      "3100 \t Error 0.004747948\n",
      "3200 \t Error 0.005066758\n",
      "3300 \t Error 0.0028771148\n",
      "3400 \t Error 0.0043868893\n",
      "3500 \t Error 0.0024533211\n",
      "3600 \t Error 0.0039531793\n",
      "3700 \t Error 0.003452246\n",
      "3800 \t Error 0.0023212146\n",
      "3900 \t Error 0.0032293529\n",
      "4000 \t Error 0.0034265502\n",
      "4100 \t Error 0.002932293\n",
      "4200 \t Error 0.0037953316\n",
      "4300 \t Error 0.0032632377\n",
      "4400 \t Error 0.0018783853\n",
      "4500 \t Error 0.005156078\n",
      "4600 \t Error 0.0023194717\n",
      "4700 \t Error 0.004292535\n",
      "4800 \t Error 0.0028275754\n",
      "4900 \t Error 0.0025419593\n"
     ]
    }
   ],
   "source": [
    "with tf.Session() as sesion:\n",
    "    sesion.run(init)\n",
    "    for iteration in range(numero_iteraciones_entrenamiento):\n",
    "        lote_X, lote_y = lotes(entrenamiento_normalizado,tamaño_lote,numero_pasos)\n",
    "        sesion.run(entrenamiento,feed_dict={X:lote_X,y:lote_y})\n",
    "        if iteration % 100 == 0:\n",
    "            error = funcion_error.eval(feed_dict={X:lote_X,y:lote_y})\n",
    "            print(iteration,\"\\t Error\",error)\n",
    "        saver.save(sesion,\"./modelo_series_temporales\")"
   ]
  },
  {
   "cell_type": "code",
   "execution_count": 18,
   "metadata": {},
   "outputs": [
    {
     "data": {
      "text/html": [
       "<div>\n",
       "<style scoped>\n",
       "    .dataframe tbody tr th:only-of-type {\n",
       "        vertical-align: middle;\n",
       "    }\n",
       "\n",
       "    .dataframe tbody tr th {\n",
       "        vertical-align: top;\n",
       "    }\n",
       "\n",
       "    .dataframe thead th {\n",
       "        text-align: right;\n",
       "    }\n",
       "</style>\n",
       "<table border=\"1\" class=\"dataframe\">\n",
       "  <thead>\n",
       "    <tr style=\"text-align: right;\">\n",
       "      <th></th>\n",
       "      <th>Milk Production</th>\n",
       "    </tr>\n",
       "    <tr>\n",
       "      <th>Month</th>\n",
       "      <th></th>\n",
       "    </tr>\n",
       "  </thead>\n",
       "  <tbody>\n",
       "    <tr>\n",
       "      <td>1974-07-01 01:00:00</td>\n",
       "      <td>908.0</td>\n",
       "    </tr>\n",
       "    <tr>\n",
       "      <td>1974-08-01 01:00:00</td>\n",
       "      <td>867.0</td>\n",
       "    </tr>\n",
       "    <tr>\n",
       "      <td>1974-09-01 01:00:00</td>\n",
       "      <td>815.0</td>\n",
       "    </tr>\n",
       "    <tr>\n",
       "      <td>1974-10-01 01:00:00</td>\n",
       "      <td>812.0</td>\n",
       "    </tr>\n",
       "    <tr>\n",
       "      <td>1974-11-01 01:00:00</td>\n",
       "      <td>773.0</td>\n",
       "    </tr>\n",
       "    <tr>\n",
       "      <td>1974-12-01 01:00:00</td>\n",
       "      <td>813.0</td>\n",
       "    </tr>\n",
       "    <tr>\n",
       "      <td>1975-01-01 01:00:00</td>\n",
       "      <td>834.0</td>\n",
       "    </tr>\n",
       "    <tr>\n",
       "      <td>1975-02-01 01:00:00</td>\n",
       "      <td>782.0</td>\n",
       "    </tr>\n",
       "    <tr>\n",
       "      <td>1975-03-01 01:00:00</td>\n",
       "      <td>892.0</td>\n",
       "    </tr>\n",
       "    <tr>\n",
       "      <td>1975-04-01 01:00:00</td>\n",
       "      <td>903.0</td>\n",
       "    </tr>\n",
       "    <tr>\n",
       "      <td>1975-05-01 01:00:00</td>\n",
       "      <td>966.0</td>\n",
       "    </tr>\n",
       "    <tr>\n",
       "      <td>1975-06-01 01:00:00</td>\n",
       "      <td>937.0</td>\n",
       "    </tr>\n",
       "    <tr>\n",
       "      <td>1975-07-01 01:00:00</td>\n",
       "      <td>896.0</td>\n",
       "    </tr>\n",
       "    <tr>\n",
       "      <td>1975-08-01 01:00:00</td>\n",
       "      <td>858.0</td>\n",
       "    </tr>\n",
       "    <tr>\n",
       "      <td>1975-09-01 01:00:00</td>\n",
       "      <td>817.0</td>\n",
       "    </tr>\n",
       "    <tr>\n",
       "      <td>1975-10-01 01:00:00</td>\n",
       "      <td>827.0</td>\n",
       "    </tr>\n",
       "    <tr>\n",
       "      <td>1975-11-01 01:00:00</td>\n",
       "      <td>797.0</td>\n",
       "    </tr>\n",
       "    <tr>\n",
       "      <td>1975-12-01 01:00:00</td>\n",
       "      <td>843.0</td>\n",
       "    </tr>\n",
       "  </tbody>\n",
       "</table>\n",
       "</div>"
      ],
      "text/plain": [
       "                     Milk Production\n",
       "Month                               \n",
       "1974-07-01 01:00:00            908.0\n",
       "1974-08-01 01:00:00            867.0\n",
       "1974-09-01 01:00:00            815.0\n",
       "1974-10-01 01:00:00            812.0\n",
       "1974-11-01 01:00:00            773.0\n",
       "1974-12-01 01:00:00            813.0\n",
       "1975-01-01 01:00:00            834.0\n",
       "1975-02-01 01:00:00            782.0\n",
       "1975-03-01 01:00:00            892.0\n",
       "1975-04-01 01:00:00            903.0\n",
       "1975-05-01 01:00:00            966.0\n",
       "1975-06-01 01:00:00            937.0\n",
       "1975-07-01 01:00:00            896.0\n",
       "1975-08-01 01:00:00            858.0\n",
       "1975-09-01 01:00:00            817.0\n",
       "1975-10-01 01:00:00            827.0\n",
       "1975-11-01 01:00:00            797.0\n",
       "1975-12-01 01:00:00            843.0"
      ]
     },
     "execution_count": 18,
     "metadata": {},
     "output_type": "execute_result"
    }
   ],
   "source": [
    "#haremos predciones\n",
    "conjunto_pruebas"
   ]
  },
  {
   "cell_type": "code",
   "execution_count": 20,
   "metadata": {},
   "outputs": [
    {
     "name": "stdout",
     "output_type": "stream",
     "text": [
      "INFO:tensorflow:Restoring parameters from ./modelo_series_temporales\n"
     ]
    }
   ],
   "source": [
    "with tf.Session() as sesion:\n",
    "    saver.restore(sesion,'./modelo_series_temporales')\n",
    "    entrenamiento_seed = list(entrenamiento_normalizado[-18:])\n",
    "    for iteracion in range(18):\n",
    "        lote_X = np.array(entrenamiento_seed[-numero_pasos:]).reshape(1,numero_pasos,1)\n",
    "        prediccion_y = sesion.run(salidas, feed_dict={X:lote_X})\n",
    "        entrenamiento_seed.append(prediccion_y[0,-1,0])"
   ]
  },
  {
   "cell_type": "code",
   "execution_count": 23,
   "metadata": {},
   "outputs": [],
   "source": [
    "resultados=normalizacion.inverse_transform(np.array(entrenamiento_seed[18:]).reshape(18,1))"
   ]
  },
  {
   "cell_type": "code",
   "execution_count": 24,
   "metadata": {},
   "outputs": [
    {
     "data": {
      "text/plain": [
       "array([[888.2737 ],\n",
       "       [850.8973 ],\n",
       "       [810.8392 ],\n",
       "       [798.2113 ],\n",
       "       [781.63605],\n",
       "       [798.41296],\n",
       "       [816.36664],\n",
       "       [780.7723 ],\n",
       "       [886.1696 ],\n",
       "       [893.46277],\n",
       "       [977.5821 ],\n",
       "       [932.9569 ],\n",
       "       [887.761  ],\n",
       "       [841.2371 ],\n",
       "       [804.2344 ],\n",
       "       [790.6511 ],\n",
       "       [775.3203 ],\n",
       "       [793.4208 ]], dtype=float32)"
      ]
     },
     "execution_count": 24,
     "metadata": {},
     "output_type": "execute_result"
    }
   ],
   "source": [
    "resultados"
   ]
  },
  {
   "cell_type": "code",
   "execution_count": 25,
   "metadata": {},
   "outputs": [
    {
     "data": {
      "text/html": [
       "<div>\n",
       "<style scoped>\n",
       "    .dataframe tbody tr th:only-of-type {\n",
       "        vertical-align: middle;\n",
       "    }\n",
       "\n",
       "    .dataframe tbody tr th {\n",
       "        vertical-align: top;\n",
       "    }\n",
       "\n",
       "    .dataframe thead th {\n",
       "        text-align: right;\n",
       "    }\n",
       "</style>\n",
       "<table border=\"1\" class=\"dataframe\">\n",
       "  <thead>\n",
       "    <tr style=\"text-align: right;\">\n",
       "      <th></th>\n",
       "      <th>Milk Production</th>\n",
       "    </tr>\n",
       "    <tr>\n",
       "      <th>Month</th>\n",
       "      <th></th>\n",
       "    </tr>\n",
       "  </thead>\n",
       "  <tbody>\n",
       "    <tr>\n",
       "      <td>1974-07-01 01:00:00</td>\n",
       "      <td>908.0</td>\n",
       "    </tr>\n",
       "    <tr>\n",
       "      <td>1974-08-01 01:00:00</td>\n",
       "      <td>867.0</td>\n",
       "    </tr>\n",
       "    <tr>\n",
       "      <td>1974-09-01 01:00:00</td>\n",
       "      <td>815.0</td>\n",
       "    </tr>\n",
       "    <tr>\n",
       "      <td>1974-10-01 01:00:00</td>\n",
       "      <td>812.0</td>\n",
       "    </tr>\n",
       "    <tr>\n",
       "      <td>1974-11-01 01:00:00</td>\n",
       "      <td>773.0</td>\n",
       "    </tr>\n",
       "    <tr>\n",
       "      <td>1974-12-01 01:00:00</td>\n",
       "      <td>813.0</td>\n",
       "    </tr>\n",
       "    <tr>\n",
       "      <td>1975-01-01 01:00:00</td>\n",
       "      <td>834.0</td>\n",
       "    </tr>\n",
       "    <tr>\n",
       "      <td>1975-02-01 01:00:00</td>\n",
       "      <td>782.0</td>\n",
       "    </tr>\n",
       "    <tr>\n",
       "      <td>1975-03-01 01:00:00</td>\n",
       "      <td>892.0</td>\n",
       "    </tr>\n",
       "    <tr>\n",
       "      <td>1975-04-01 01:00:00</td>\n",
       "      <td>903.0</td>\n",
       "    </tr>\n",
       "    <tr>\n",
       "      <td>1975-05-01 01:00:00</td>\n",
       "      <td>966.0</td>\n",
       "    </tr>\n",
       "    <tr>\n",
       "      <td>1975-06-01 01:00:00</td>\n",
       "      <td>937.0</td>\n",
       "    </tr>\n",
       "    <tr>\n",
       "      <td>1975-07-01 01:00:00</td>\n",
       "      <td>896.0</td>\n",
       "    </tr>\n",
       "    <tr>\n",
       "      <td>1975-08-01 01:00:00</td>\n",
       "      <td>858.0</td>\n",
       "    </tr>\n",
       "    <tr>\n",
       "      <td>1975-09-01 01:00:00</td>\n",
       "      <td>817.0</td>\n",
       "    </tr>\n",
       "    <tr>\n",
       "      <td>1975-10-01 01:00:00</td>\n",
       "      <td>827.0</td>\n",
       "    </tr>\n",
       "    <tr>\n",
       "      <td>1975-11-01 01:00:00</td>\n",
       "      <td>797.0</td>\n",
       "    </tr>\n",
       "    <tr>\n",
       "      <td>1975-12-01 01:00:00</td>\n",
       "      <td>843.0</td>\n",
       "    </tr>\n",
       "  </tbody>\n",
       "</table>\n",
       "</div>"
      ],
      "text/plain": [
       "                     Milk Production\n",
       "Month                               \n",
       "1974-07-01 01:00:00            908.0\n",
       "1974-08-01 01:00:00            867.0\n",
       "1974-09-01 01:00:00            815.0\n",
       "1974-10-01 01:00:00            812.0\n",
       "1974-11-01 01:00:00            773.0\n",
       "1974-12-01 01:00:00            813.0\n",
       "1975-01-01 01:00:00            834.0\n",
       "1975-02-01 01:00:00            782.0\n",
       "1975-03-01 01:00:00            892.0\n",
       "1975-04-01 01:00:00            903.0\n",
       "1975-05-01 01:00:00            966.0\n",
       "1975-06-01 01:00:00            937.0\n",
       "1975-07-01 01:00:00            896.0\n",
       "1975-08-01 01:00:00            858.0\n",
       "1975-09-01 01:00:00            817.0\n",
       "1975-10-01 01:00:00            827.0\n",
       "1975-11-01 01:00:00            797.0\n",
       "1975-12-01 01:00:00            843.0"
      ]
     },
     "execution_count": 25,
     "metadata": {},
     "output_type": "execute_result"
    }
   ],
   "source": [
    "conjunto_pruebas"
   ]
  },
  {
   "cell_type": "code",
   "execution_count": 26,
   "metadata": {},
   "outputs": [
    {
     "name": "stderr",
     "output_type": "stream",
     "text": [
      "/usr/local/lib/python3.7/site-packages/ipykernel_launcher.py:1: SettingWithCopyWarning: \n",
      "A value is trying to be set on a copy of a slice from a DataFrame.\n",
      "Try using .loc[row_indexer,col_indexer] = value instead\n",
      "\n",
      "See the caveats in the documentation: http://pandas.pydata.org/pandas-docs/stable/user_guide/indexing.html#returning-a-view-versus-a-copy\n",
      "  \"\"\"Entry point for launching an IPython kernel.\n"
     ]
    }
   ],
   "source": [
    "conjunto_pruebas['Predicciones']=resultados"
   ]
  },
  {
   "cell_type": "code",
   "execution_count": 27,
   "metadata": {},
   "outputs": [
    {
     "data": {
      "text/html": [
       "<div>\n",
       "<style scoped>\n",
       "    .dataframe tbody tr th:only-of-type {\n",
       "        vertical-align: middle;\n",
       "    }\n",
       "\n",
       "    .dataframe tbody tr th {\n",
       "        vertical-align: top;\n",
       "    }\n",
       "\n",
       "    .dataframe thead th {\n",
       "        text-align: right;\n",
       "    }\n",
       "</style>\n",
       "<table border=\"1\" class=\"dataframe\">\n",
       "  <thead>\n",
       "    <tr style=\"text-align: right;\">\n",
       "      <th></th>\n",
       "      <th>Milk Production</th>\n",
       "      <th>Predicciones</th>\n",
       "    </tr>\n",
       "    <tr>\n",
       "      <th>Month</th>\n",
       "      <th></th>\n",
       "      <th></th>\n",
       "    </tr>\n",
       "  </thead>\n",
       "  <tbody>\n",
       "    <tr>\n",
       "      <td>1974-07-01 01:00:00</td>\n",
       "      <td>908.0</td>\n",
       "      <td>888.273682</td>\n",
       "    </tr>\n",
       "    <tr>\n",
       "      <td>1974-08-01 01:00:00</td>\n",
       "      <td>867.0</td>\n",
       "      <td>850.897278</td>\n",
       "    </tr>\n",
       "    <tr>\n",
       "      <td>1974-09-01 01:00:00</td>\n",
       "      <td>815.0</td>\n",
       "      <td>810.839172</td>\n",
       "    </tr>\n",
       "    <tr>\n",
       "      <td>1974-10-01 01:00:00</td>\n",
       "      <td>812.0</td>\n",
       "      <td>798.211304</td>\n",
       "    </tr>\n",
       "    <tr>\n",
       "      <td>1974-11-01 01:00:00</td>\n",
       "      <td>773.0</td>\n",
       "      <td>781.636047</td>\n",
       "    </tr>\n",
       "    <tr>\n",
       "      <td>1974-12-01 01:00:00</td>\n",
       "      <td>813.0</td>\n",
       "      <td>798.412964</td>\n",
       "    </tr>\n",
       "    <tr>\n",
       "      <td>1975-01-01 01:00:00</td>\n",
       "      <td>834.0</td>\n",
       "      <td>816.366638</td>\n",
       "    </tr>\n",
       "    <tr>\n",
       "      <td>1975-02-01 01:00:00</td>\n",
       "      <td>782.0</td>\n",
       "      <td>780.772278</td>\n",
       "    </tr>\n",
       "    <tr>\n",
       "      <td>1975-03-01 01:00:00</td>\n",
       "      <td>892.0</td>\n",
       "      <td>886.169617</td>\n",
       "    </tr>\n",
       "    <tr>\n",
       "      <td>1975-04-01 01:00:00</td>\n",
       "      <td>903.0</td>\n",
       "      <td>893.462769</td>\n",
       "    </tr>\n",
       "    <tr>\n",
       "      <td>1975-05-01 01:00:00</td>\n",
       "      <td>966.0</td>\n",
       "      <td>977.582092</td>\n",
       "    </tr>\n",
       "    <tr>\n",
       "      <td>1975-06-01 01:00:00</td>\n",
       "      <td>937.0</td>\n",
       "      <td>932.956909</td>\n",
       "    </tr>\n",
       "    <tr>\n",
       "      <td>1975-07-01 01:00:00</td>\n",
       "      <td>896.0</td>\n",
       "      <td>887.760986</td>\n",
       "    </tr>\n",
       "    <tr>\n",
       "      <td>1975-08-01 01:00:00</td>\n",
       "      <td>858.0</td>\n",
       "      <td>841.237122</td>\n",
       "    </tr>\n",
       "    <tr>\n",
       "      <td>1975-09-01 01:00:00</td>\n",
       "      <td>817.0</td>\n",
       "      <td>804.234375</td>\n",
       "    </tr>\n",
       "    <tr>\n",
       "      <td>1975-10-01 01:00:00</td>\n",
       "      <td>827.0</td>\n",
       "      <td>790.651123</td>\n",
       "    </tr>\n",
       "    <tr>\n",
       "      <td>1975-11-01 01:00:00</td>\n",
       "      <td>797.0</td>\n",
       "      <td>775.320312</td>\n",
       "    </tr>\n",
       "    <tr>\n",
       "      <td>1975-12-01 01:00:00</td>\n",
       "      <td>843.0</td>\n",
       "      <td>793.420776</td>\n",
       "    </tr>\n",
       "  </tbody>\n",
       "</table>\n",
       "</div>"
      ],
      "text/plain": [
       "                     Milk Production  Predicciones\n",
       "Month                                             \n",
       "1974-07-01 01:00:00            908.0    888.273682\n",
       "1974-08-01 01:00:00            867.0    850.897278\n",
       "1974-09-01 01:00:00            815.0    810.839172\n",
       "1974-10-01 01:00:00            812.0    798.211304\n",
       "1974-11-01 01:00:00            773.0    781.636047\n",
       "1974-12-01 01:00:00            813.0    798.412964\n",
       "1975-01-01 01:00:00            834.0    816.366638\n",
       "1975-02-01 01:00:00            782.0    780.772278\n",
       "1975-03-01 01:00:00            892.0    886.169617\n",
       "1975-04-01 01:00:00            903.0    893.462769\n",
       "1975-05-01 01:00:00            966.0    977.582092\n",
       "1975-06-01 01:00:00            937.0    932.956909\n",
       "1975-07-01 01:00:00            896.0    887.760986\n",
       "1975-08-01 01:00:00            858.0    841.237122\n",
       "1975-09-01 01:00:00            817.0    804.234375\n",
       "1975-10-01 01:00:00            827.0    790.651123\n",
       "1975-11-01 01:00:00            797.0    775.320312\n",
       "1975-12-01 01:00:00            843.0    793.420776"
      ]
     },
     "execution_count": 27,
     "metadata": {},
     "output_type": "execute_result"
    }
   ],
   "source": [
    "conjunto_pruebas"
   ]
  },
  {
   "cell_type": "code",
   "execution_count": 28,
   "metadata": {},
   "outputs": [
    {
     "data": {
      "text/plain": [
       "<matplotlib.axes._subplots.AxesSubplot at 0x12f536890>"
      ]
     },
     "execution_count": 28,
     "metadata": {},
     "output_type": "execute_result"
    },
    {
     "data": {
      "image/png": "[encoded data removed]",
      "text/plain": [
       "<Figure size 432x288 with 1 Axes>"
      ]
     },
     "metadata": {
      "needs_background": "light"
     },
     "output_type": "display_data"
    }
   ],
   "source": [
    "conjunto_pruebas.plot()"
   ]
  },
  {
   "cell_type": "code",
   "execution_count": null,
   "metadata": {},
   "outputs": [],
   "source": []
  }
 ],
 "metadata": {
  "kernelspec": {
   "display_name": "Python 3",
   "language": "python",
   "name": "python3"
  },
  "language_info": {
   "codemirror_mode": {
    "name": "ipython",
    "version": 3
   },
   "file_extension": ".py",
   "mimetype": "text/x-python",
   "name": "python",
   "nbconvert_exporter": "python",
   "pygments_lexer": "ipython3",
   "version": "3.7.4"
  }
 },
 "nbformat": 4,
 "nbformat_minor": 2
}
