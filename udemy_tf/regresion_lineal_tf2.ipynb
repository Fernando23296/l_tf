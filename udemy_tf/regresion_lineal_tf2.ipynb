{
 "cells": [
  {
   "cell_type": "markdown",
   "metadata": {},
   "source": [
    "## Regresion lineal con TensorFlow"
   ]
  },
  {
   "cell_type": "markdown",
   "metadata": {},
   "source": [
    "La regersio lineal es un metodo estadístico muy comun que nos permite aprender una funcion o relacion dado un conjunto de datos continuos. Done dado un \"x\" tiene su correspondiente \"y\", y nosotros debemos aprender la relacion entre estos dos, lo cual lo llamamos hipotesis.\n",
    "\n",
    "En el caso de la regresion lineal, la hipotesis es:\n",
    "\n",
    "<b>h=wx+b</b>\n",
    "\n",
    "Donde:\n",
    "* w son los pesos\n",
    "* b es el bias\n",
    "* Ambos son parametros del modelo\n",
    "\n",
    "Todo lo que necesitamos es estimar el valor de w y b de un dataset dado, donde la hipotesis produce el menor costo posible  (J), el cual esta definido por la funcion de coste (cost function):\n",
    "\n",
    "J(w,b) = (1/2m)*(sumatoria_empezando en 1 hasta m(y_original - y_predicho)^2)\n",
    "\n",
    "Donde m es el numero de datos en el dataset, esta funcion de coste es tambien llamado **Mean Squared Error**\n",
    "\n",
    "Para encontrar el valor optimizado de los parametros donde J es minimo, podemos usar el algoritmo Gradiente Descendiente, acá el pseudocodigo:\n",
    "\n",
    "\n",
    "<br>Repetir hasta la convergencia{\n",
    "<br>    w = w - alfa*(delta(J)/delta(w))\n",
    "<br>    b = b - alfa*(delta(J)/delta(b))\n",
    "<br>}\n",
    "\n",
    "\n",
    "Donde:\n",
    "alfa: es un hiperparametro llamado el learning rate"
   ]
  },
  {
   "cell_type": "markdown",
   "metadata": {},
   "source": [
    "### Hacemos uso de TensorFlow"
   ]
  },
  {
   "cell_type": "code",
   "execution_count": 4,
   "metadata": {},
   "outputs": [],
   "source": [
    "import numpy as np\n",
    "import tensorflow as tf\n",
    "import pandas as pd\n",
    "import matplotlib.pyplot as plt"
   ]
  },
  {
   "cell_type": "code",
   "execution_count": 5,
   "metadata": {},
   "outputs": [
    {
     "data": {
      "text/plain": [
       "'1.14.0'"
      ]
     },
     "execution_count": 5,
     "metadata": {},
     "output_type": "execute_result"
    }
   ],
   "source": [
    "tf.__version__"
   ]
  },
  {
   "cell_type": "code",
   "execution_count": 7,
   "metadata": {},
   "outputs": [],
   "source": [
    "#iniciamos seeds para hacer que los numeros randomicos sean previsibles\n",
    "np.random.seed(101)\n",
    "tf.set_random_seed(101)"
   ]
  },
  {
   "cell_type": "code",
   "execution_count": 8,
   "metadata": {},
   "outputs": [],
   "source": [
    "#Generamos datos randomicos para el entrenamiento del modelo de regresion lineal\n",
    "x = np.linspace(0,50,50) + np.random.uniform(-4,4,50)\n",
    "y = np.linspace(0,50,50) + np.random.uniform(-4,4,50)\n"
   ]
  },
  {
   "cell_type": "code",
   "execution_count": 9,
   "metadata": {},
   "outputs": [
    {
     "data": {
      "text/plain": [
       "array([ 0.13118902,  1.58574886, -1.73138986,  0.43339774,  5.56384851,\n",
       "        7.77321572,  4.57817874, 10.29176178,  9.9356162 ,  6.7031851 ,\n",
       "       10.63790236, 10.04154543,  9.70003718, 15.55012022, 18.00958007,\n",
       "       13.16495174, 12.99502208, 18.17532615, 20.199289  , 17.59766573,\n",
       "       21.8906139 , 21.57151122, 18.83685589, 20.57234166, 21.98553533,\n",
       "       29.46474729, 26.69593542, 28.18133669, 30.44998104, 29.92753091,\n",
       "       33.91747336, 34.09601427, 31.87704387, 32.53126413, 38.31689127,\n",
       "       34.46333834, 39.65549241, 40.39732374, 39.0808018 , 43.17567335,\n",
       "       37.59349837, 38.65951464, 44.46920122, 47.00138997, 42.17444159,\n",
       "       44.12294771, 48.31870775, 45.27360867, 50.59056093, 49.90108178])"
      ]
     },
     "execution_count": 9,
     "metadata": {},
     "output_type": "execute_result"
    }
   ],
   "source": [
    "x"
   ]
  },
  {
   "cell_type": "code",
   "execution_count": 10,
   "metadata": {},
   "outputs": [
    {
     "data": {
      "text/plain": [
       "array([ 1.44542215,  1.1927937 , -1.61201012,  0.85271732,  4.68327335,\n",
       "        2.0655101 ,  6.12338269,  4.24693369,  4.58573251,  6.60988885,\n",
       "        9.74302668, 14.24518839, 15.83901099, 13.09064546, 13.97466902,\n",
       "       16.4044347 , 14.92339458, 14.28756352, 14.77615491, 20.48902432,\n",
       "       22.90629042, 22.79065479, 23.66312122, 22.8659393 , 25.74255861,\n",
       "       23.18349607, 27.8100084 , 27.7880076 , 30.55959153, 26.34189158,\n",
       "       32.8884197 , 33.13058936, 34.2136892 , 33.64840154, 38.49676657,\n",
       "       33.34250668, 35.12685715, 35.57634918, 35.16086129, 43.02768923,\n",
       "       37.45715484, 42.69446487, 43.90391649, 42.90108648, 41.00388727,\n",
       "       48.65612264, 46.01827748, 48.37251043, 50.66389696, 51.40223081])"
      ]
     },
     "execution_count": 10,
     "metadata": {},
     "output_type": "execute_result"
    }
   ],
   "source": [
    "y"
   ]
  },
  {
   "cell_type": "code",
   "execution_count": 12,
   "metadata": {},
   "outputs": [
    {
     "name": "stdout",
     "output_type": "stream",
     "text": [
      "50\n"
     ]
    }
   ],
   "source": [
    "#numero de elementos \n",
    "n = len(x)\n",
    "print(n)"
   ]
  },
  {
   "cell_type": "code",
   "execution_count": 13,
   "metadata": {},
   "outputs": [
    {
     "data": {
      "image/png": "[encoded data removed]",
      "text/plain": [
       "<Figure size 432x288 with 1 Axes>"
      ]
     },
     "metadata": {
      "needs_background": "light"
     },
     "output_type": "display_data"
    }
   ],
   "source": [
    "#Visualizamos los datos\n",
    "plt.scatter(x,y)\n",
    "plt.xlabel('x')\n",
    "plt.ylabel('y')\n",
    "plt.title('Training data')\n",
    "plt.show()"
   ]
  },
  {
   "cell_type": "code",
   "execution_count": 14,
   "metadata": {},
   "outputs": [],
   "source": [
    "'''\n",
    "Empezamos a crear el modelo definiendo 'x' y 'y' como placeholders, los cuales usaran \n",
    "para el optimizador durante el proceso de entrenamiento\n",
    "'''\n",
    "\n",
    "X = tf.placeholder('float')\n",
    "Y = tf.placeholder('float')"
   ]
  },
  {
   "cell_type": "code",
   "execution_count": 15,
   "metadata": {},
   "outputs": [],
   "source": [
    "'''\n",
    "Ahora declaramos dos Variables tensorflow entrenables \n",
    "para los pesos y el bias, los inicializaremos usando np.random.randn\n",
    "'''\n",
    "\n",
    "W = tf.Variable(np.random.randn(), name = 'W')\n",
    "b = tf.Variable(np.random.randn(), name = 'b')"
   ]
  },
  {
   "cell_type": "code",
   "execution_count": 24,
   "metadata": {},
   "outputs": [
    {
     "data": {
      "text/plain": [
       "<tf.Variable 'W:0' shape=() dtype=float32_ref>"
      ]
     },
     "execution_count": 24,
     "metadata": {},
     "output_type": "execute_result"
    }
   ],
   "source": [
    "W"
   ]
  },
  {
   "cell_type": "code",
   "execution_count": 25,
   "metadata": {},
   "outputs": [
    {
     "data": {
      "text/plain": [
       "<tf.Variable 'b:0' shape=() dtype=float32_ref>"
      ]
     },
     "execution_count": 25,
     "metadata": {},
     "output_type": "execute_result"
    }
   ],
   "source": [
    "b"
   ]
  },
  {
   "cell_type": "code",
   "execution_count": 16,
   "metadata": {},
   "outputs": [],
   "source": [
    "'''\n",
    "definimos los hiperparametros del modelo, learning rate y epoch\n",
    "'''\n",
    "learning_rate = 0.01\n",
    "training_epochs = 1000"
   ]
  },
  {
   "cell_type": "code",
   "execution_count": 17,
   "metadata": {},
   "outputs": [
    {
     "name": "stdout",
     "output_type": "stream",
     "text": [
      "WARNING:tensorflow:From /usr/local/lib/python3.7/site-packages/tensorflow/python/ops/math_grad.py:1205: add_dispatch_support.<locals>.wrapper (from tensorflow.python.ops.array_ops) is deprecated and will be removed in a future version.\n",
      "Instructions for updating:\n",
      "Use tf.where in 2.0, which has the same broadcast rule as np.where\n"
     ]
    }
   ],
   "source": [
    "'''\n",
    "Ahora crearemos la hipotesis, la funcion de coste y el optimizador\n",
    "No se hara la gradiente descendiente de cero, ya que tf ya lo tiene\n",
    "despus se inicializaran las variables\n",
    "'''\n",
    "#hipotesis\n",
    "y_pred = tf.add(tf.multiply(X,W),b) #multiplicamos X y W, luego sumamos b\n",
    "\n",
    "\n",
    "#cost function (mean squared error)\n",
    "cost = tf.reduce_sum(tf.pow(y_pred-Y,2))/ (2*n)\n",
    "\n",
    "#Optimizador de gradiente descendiente\n",
    "optimizer = tf.train.GradientDescentOptimizer(learning_rate).minimize(cost)\n",
    "\n",
    "#inicializamos las variables globales\n",
    "init = tf.global_variables_initializer()"
   ]
  },
  {
   "cell_type": "code",
   "execution_count": 32,
   "metadata": {},
   "outputs": [
    {
     "name": "stdout",
     "output_type": "stream",
     "text": [
      "Epoch 50 : cost =  5.8868036 W =  0.9951241 b= 1.238105\n",
      "Epoch 100 : cost =  5.79127 W =  0.99812365 b= 1.0914395\n",
      "Epoch 150 : cost =  5.7119684 W =  1.0008028 b= 0.96044284\n",
      "Epoch 200 : cost =  5.6459413 W =  1.0031956 b= 0.84343934\n",
      "Epoch 250 : cost =  5.5907993 W =  1.0053328 b= 0.7389355\n",
      "Epoch 300 : cost =  5.544608 W =  1.007242 b= 0.6455921\n",
      "Epoch 350 : cost =  5.5057893 W =  1.008947 b= 0.56221986\n",
      "Epoch 400 : cost =  5.473066 W =  1.01047 b= 0.48775342\n",
      "Epoch 450 : cost =  5.445385 W =  1.0118302 b= 0.42124158\n",
      "Epoch 500 : cost =  5.4219036 W =  1.0130452 b= 0.36183482\n",
      "Epoch 550 : cost =  5.4019227 W =  1.0141305 b= 0.30877408\n",
      "Epoch 600 : cost =  5.3848557 W =  1.0150996 b= 0.2613811\n",
      "Epoch 650 : cost =  5.370246 W =  1.0159653 b= 0.21905078\n",
      "Epoch 700 : cost =  5.3576994 W =  1.0167387 b= 0.18124203\n",
      "Epoch 750 : cost =  5.3468933 W =  1.0174294 b= 0.14747237\n",
      "Epoch 800 : cost =  5.337558 W =  1.0180461 b= 0.11730931\n",
      "Epoch 850 : cost =  5.3294754 W =  1.0185971 b= 0.090368524\n",
      "Epoch 900 : cost =  5.322459 W =  1.0190892 b= 0.06630575\n",
      "Epoch 950 : cost =  5.3163586 W =  1.0195289 b= 0.044813294\n",
      "Epoch 1000 : cost =  5.3110332 W =  1.0199214 b= 0.02561658\n"
     ]
    }
   ],
   "source": [
    "'''\n",
    "Ahora realizaremos el proceso de entrenamiento dentro de una sesion TensorFlow\n",
    "'''\n",
    "\n",
    "with tf.Session() as sess:\n",
    "    \n",
    "   #inicializamos las variables\n",
    "    sess.run(init)\n",
    "    \n",
    "    #lo iteramos haciendo uso de los epochs\n",
    "    for epoch in range(training_epochs):\n",
    "        \n",
    "        #alimentamos cada punto de datos en el optimizador\n",
    "        for(_x,_y) in zip(x,y):\n",
    "            sess.run(optimizer, feed_dict={X:_x,Y:_y})\n",
    "\n",
    "        #se despliega el resultado despues de iterarlo en 50 epochs\n",
    "        if (epoch+1)% 50 == 0:\n",
    "            #calculamos el costo en cada epoch \n",
    "            c = sess.run(cost, feed_dict = {X:x, Y:y}) \n",
    "            print('Epoch', (epoch+1),': cost = ',c,'W = ',sess.run(W),'b=',sess.run(b))\n",
    "        \n",
    "    #Guardamos los valores necesarios para ser usados fuera de la sesion\n",
    "    training_cost = sess.run(cost,feed_dict={X:x,Y:y})\n",
    "    weight = sess.run(W)\n",
    "    bias = sess.run(b)"
   ]
  },
  {
   "cell_type": "code",
   "execution_count": 33,
   "metadata": {},
   "outputs": [
    {
     "name": "stdout",
     "output_type": "stream",
     "text": [
      "Training_cost = 5.3110332 Weight = 1.0199214 bias = 0.02561658\n"
     ]
    }
   ],
   "source": [
    "predictions = weight * x + bias\n",
    "print('Training_cost =', training_cost, 'Weight =',weight, 'bias =',bias)"
   ]
  },
  {
   "cell_type": "code",
   "execution_count": 34,
   "metadata": {},
   "outputs": [
    {
     "data": {
      "image/png": "[encoded data removed]",
      "text/plain": [
       "<Figure size 432x288 with 1 Axes>"
      ]
     },
     "metadata": {
      "needs_background": "light"
     },
     "output_type": "display_data"
    }
   ],
   "source": [
    "plt.plot(x,y,'ro',label='Original data')\n",
    "plt.plot(x,predictions,label='Fitted line')\n",
    "plt.title('Linear Regression Result')\n",
    "plt.legend()\n",
    "plt.show()"
   ]
  },
  {
   "cell_type": "code",
   "execution_count": null,
   "metadata": {},
   "outputs": [],
   "source": []
  },
  {
   "cell_type": "code",
   "execution_count": null,
   "metadata": {},
   "outputs": [],
   "source": []
  }
 ],
 "metadata": {
  "kernelspec": {
   "display_name": "Python 3",
   "language": "python",
   "name": "python3"
  },
  "language_info": {
   "codemirror_mode": {
    "name": "ipython",
    "version": 3
   },
   "file_extension": ".py",
   "mimetype": "text/x-python",
   "name": "python",
   "nbconvert_exporter": "python",
   "pygments_lexer": "ipython3",
   "version": "3.7.4"
  }
 },
 "nbformat": 4,
 "nbformat_minor": 2
}
