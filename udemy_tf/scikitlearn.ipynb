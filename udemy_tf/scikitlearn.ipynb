{
 "cells": [
  {
   "cell_type": "code",
   "execution_count": 1,
   "metadata": {},
   "outputs": [
    {
     "name": "stderr",
     "output_type": "stream",
     "text": [
      "/usr/local/Cellar/python/3.7.4_1/Frameworks/Python.framework/Versions/3.7/lib/python3.7/importlib/_bootstrap.py:219: RuntimeWarning: numpy.ufunc size changed, may indicate binary incompatibility. Expected 216, got 192\n",
      "  return f(*args, **kwds)\n",
      "/usr/local/Cellar/python/3.7.4_1/Frameworks/Python.framework/Versions/3.7/lib/python3.7/importlib/_bootstrap.py:219: RuntimeWarning: numpy.ufunc size changed, may indicate binary incompatibility. Expected 216, got 192\n",
      "  return f(*args, **kwds)\n"
     ]
    }
   ],
   "source": [
    "import numpy as np\n",
    "import pandas as pd\n",
    "from sklearn.model_selection import train_test_split\n"
   ]
  },
  {
   "cell_type": "code",
   "execution_count": 18,
   "metadata": {},
   "outputs": [],
   "source": [
    "#creamos una matriz 100x4 con valores aleatorios\n",
    "datos = np.random.randint(0,100,(100,4)) #forma de hacer un reshape"
   ]
  },
  {
   "cell_type": "code",
   "execution_count": 19,
   "metadata": {},
   "outputs": [
    {
     "data": {
      "text/plain": [
       "array([[64, 20, 19, 46],\n",
       "       [59, 61, 53, 89],\n",
       "       [35, 90, 27, 27],\n",
       "       [ 8, 96, 48, 32],\n",
       "       [89, 72, 60,  0],\n",
       "       [82, 27, 18, 72],\n",
       "       [48, 77, 69, 91],\n",
       "       [ 5,  8, 58, 41],\n",
       "       [89, 78, 23, 38],\n",
       "       [52, 48, 88, 31],\n",
       "       [17, 67, 15, 30],\n",
       "       [87, 56, 78, 60],\n",
       "       [86, 74, 43, 33],\n",
       "       [59, 29, 80, 25],\n",
       "       [76, 15, 83, 99],\n",
       "       [26, 96, 71, 64],\n",
       "       [37, 39, 47, 99],\n",
       "       [87, 45,  0,  2],\n",
       "       [ 9, 96, 73, 39],\n",
       "       [31, 32, 95, 11],\n",
       "       [ 7, 49, 62, 69],\n",
       "       [16, 93, 21, 92],\n",
       "       [40, 20, 55, 34],\n",
       "       [80, 10, 89, 10],\n",
       "       [32, 39, 30, 90],\n",
       "       [84, 84, 42, 24],\n",
       "       [86, 89, 44, 29],\n",
       "       [85, 21, 32, 31],\n",
       "       [66, 66, 83, 20],\n",
       "       [61, 12, 52, 60],\n",
       "       [58, 68, 33,  6],\n",
       "       [37, 40, 20, 61],\n",
       "       [85, 76, 35, 37],\n",
       "       [86, 83, 97, 97],\n",
       "       [44, 31, 88, 23],\n",
       "       [79, 70, 20,  6],\n",
       "       [88, 69, 11, 29],\n",
       "       [45, 81, 45, 83],\n",
       "       [90, 58, 70, 51],\n",
       "       [45,  2, 13, 40],\n",
       "       [37, 94,  6, 56],\n",
       "       [ 5, 16,  0, 10],\n",
       "       [82, 22, 85, 56],\n",
       "       [92, 58, 89, 85],\n",
       "       [15, 87, 94, 54],\n",
       "       [60, 67, 50, 39],\n",
       "       [36, 92, 26, 81],\n",
       "       [41, 86, 99, 41],\n",
       "       [ 5, 47, 29, 98],\n",
       "       [ 4, 34, 24, 11],\n",
       "       [56, 42, 58,  6],\n",
       "       [13, 38, 52, 80],\n",
       "       [29, 87, 19, 74],\n",
       "       [16,  4, 89, 66],\n",
       "       [23, 91, 32, 71],\n",
       "       [70, 48, 28, 57],\n",
       "       [36, 92, 76, 65],\n",
       "       [56, 83, 16, 36],\n",
       "       [59, 87, 90, 39],\n",
       "       [46, 59, 60, 95],\n",
       "       [71, 56, 41, 59],\n",
       "       [83,  2, 47, 94],\n",
       "       [28,  8,  8, 81],\n",
       "       [53, 62, 48,  7],\n",
       "       [58, 22, 37,  7],\n",
       "       [77, 97, 84, 50],\n",
       "       [26, 59, 30, 16],\n",
       "       [48, 10, 62,  7],\n",
       "       [ 7, 94,  0, 28],\n",
       "       [94, 78, 13, 79],\n",
       "       [43, 43, 89, 60],\n",
       "       [18, 84,  3, 18],\n",
       "       [20, 94, 27, 89],\n",
       "       [72, 51, 61, 17],\n",
       "       [65, 78, 94, 78],\n",
       "       [91, 79, 31, 74],\n",
       "       [70, 47, 42, 45],\n",
       "       [ 8,  6, 63, 51],\n",
       "       [37, 45, 41, 48],\n",
       "       [83, 23, 49, 31],\n",
       "       [82, 92, 53,  3],\n",
       "       [70, 95, 26, 22],\n",
       "       [23, 49, 97, 65],\n",
       "       [93, 63, 66, 36],\n",
       "       [20, 75, 89, 73],\n",
       "       [75,  5, 87, 24],\n",
       "       [18, 44, 35,  7],\n",
       "       [85, 55, 83,  4],\n",
       "       [68, 99, 48,  7],\n",
       "       [68, 65, 24, 77],\n",
       "       [81, 92, 24, 48],\n",
       "       [32, 21, 48, 75],\n",
       "       [87, 90, 74, 34],\n",
       "       [84, 61, 13, 73],\n",
       "       [75, 58, 76, 90],\n",
       "       [53, 77, 84, 40],\n",
       "       [30, 11, 68, 62],\n",
       "       [57, 98, 78, 92],\n",
       "       [ 3, 41, 67, 31],\n",
       "       [45, 31, 13, 52]])"
      ]
     },
     "execution_count": 19,
     "metadata": {},
     "output_type": "execute_result"
    }
   ],
   "source": [
    "datos\n"
   ]
  },
  {
   "cell_type": "code",
   "execution_count": 21,
   "metadata": {},
   "outputs": [],
   "source": [
    "#lo volvemos en dataframe con sus correspondientes columnas\n",
    "dataframe = pd.DataFrame(data=datos,columns=['c1','c2','c3','etiqueta'])"
   ]
  },
  {
   "cell_type": "code",
   "execution_count": 22,
   "metadata": {},
   "outputs": [
    {
     "data": {
      "text/html": [
       "<div>\n",
       "<style scoped>\n",
       "    .dataframe tbody tr th:only-of-type {\n",
       "        vertical-align: middle;\n",
       "    }\n",
       "\n",
       "    .dataframe tbody tr th {\n",
       "        vertical-align: top;\n",
       "    }\n",
       "\n",
       "    .dataframe thead th {\n",
       "        text-align: right;\n",
       "    }\n",
       "</style>\n",
       "<table border=\"1\" class=\"dataframe\">\n",
       "  <thead>\n",
       "    <tr style=\"text-align: right;\">\n",
       "      <th></th>\n",
       "      <th>c1</th>\n",
       "      <th>c2</th>\n",
       "      <th>c3</th>\n",
       "      <th>etiqueta</th>\n",
       "    </tr>\n",
       "  </thead>\n",
       "  <tbody>\n",
       "    <tr>\n",
       "      <td>0</td>\n",
       "      <td>64</td>\n",
       "      <td>20</td>\n",
       "      <td>19</td>\n",
       "      <td>46</td>\n",
       "    </tr>\n",
       "    <tr>\n",
       "      <td>1</td>\n",
       "      <td>59</td>\n",
       "      <td>61</td>\n",
       "      <td>53</td>\n",
       "      <td>89</td>\n",
       "    </tr>\n",
       "    <tr>\n",
       "      <td>2</td>\n",
       "      <td>35</td>\n",
       "      <td>90</td>\n",
       "      <td>27</td>\n",
       "      <td>27</td>\n",
       "    </tr>\n",
       "    <tr>\n",
       "      <td>3</td>\n",
       "      <td>8</td>\n",
       "      <td>96</td>\n",
       "      <td>48</td>\n",
       "      <td>32</td>\n",
       "    </tr>\n",
       "    <tr>\n",
       "      <td>4</td>\n",
       "      <td>89</td>\n",
       "      <td>72</td>\n",
       "      <td>60</td>\n",
       "      <td>0</td>\n",
       "    </tr>\n",
       "    <tr>\n",
       "      <td>...</td>\n",
       "      <td>...</td>\n",
       "      <td>...</td>\n",
       "      <td>...</td>\n",
       "      <td>...</td>\n",
       "    </tr>\n",
       "    <tr>\n",
       "      <td>95</td>\n",
       "      <td>53</td>\n",
       "      <td>77</td>\n",
       "      <td>84</td>\n",
       "      <td>40</td>\n",
       "    </tr>\n",
       "    <tr>\n",
       "      <td>96</td>\n",
       "      <td>30</td>\n",
       "      <td>11</td>\n",
       "      <td>68</td>\n",
       "      <td>62</td>\n",
       "    </tr>\n",
       "    <tr>\n",
       "      <td>97</td>\n",
       "      <td>57</td>\n",
       "      <td>98</td>\n",
       "      <td>78</td>\n",
       "      <td>92</td>\n",
       "    </tr>\n",
       "    <tr>\n",
       "      <td>98</td>\n",
       "      <td>3</td>\n",
       "      <td>41</td>\n",
       "      <td>67</td>\n",
       "      <td>31</td>\n",
       "    </tr>\n",
       "    <tr>\n",
       "      <td>99</td>\n",
       "      <td>45</td>\n",
       "      <td>31</td>\n",
       "      <td>13</td>\n",
       "      <td>52</td>\n",
       "    </tr>\n",
       "  </tbody>\n",
       "</table>\n",
       "<p>100 rows × 4 columns</p>\n",
       "</div>"
      ],
      "text/plain": [
       "    c1  c2  c3  etiqueta\n",
       "0   64  20  19        46\n",
       "1   59  61  53        89\n",
       "2   35  90  27        27\n",
       "3    8  96  48        32\n",
       "4   89  72  60         0\n",
       "..  ..  ..  ..       ...\n",
       "95  53  77  84        40\n",
       "96  30  11  68        62\n",
       "97  57  98  78        92\n",
       "98   3  41  67        31\n",
       "99  45  31  13        52\n",
       "\n",
       "[100 rows x 4 columns]"
      ]
     },
     "execution_count": 22,
     "metadata": {},
     "output_type": "execute_result"
    }
   ],
   "source": [
    "dataframe"
   ]
  },
  {
   "cell_type": "code",
   "execution_count": 23,
   "metadata": {},
   "outputs": [],
   "source": [
    "#separamos las x con la y\n",
    "x = dataframe[['c1','c2','c3']]\n",
    "y = dataframe[['etiqueta']]"
   ]
  },
  {
   "cell_type": "code",
   "execution_count": 11,
   "metadata": {},
   "outputs": [
    {
     "data": {
      "text/html": [
       "<div>\n",
       "<style scoped>\n",
       "    .dataframe tbody tr th:only-of-type {\n",
       "        vertical-align: middle;\n",
       "    }\n",
       "\n",
       "    .dataframe tbody tr th {\n",
       "        vertical-align: top;\n",
       "    }\n",
       "\n",
       "    .dataframe thead th {\n",
       "        text-align: right;\n",
       "    }\n",
       "</style>\n",
       "<table border=\"1\" class=\"dataframe\">\n",
       "  <thead>\n",
       "    <tr style=\"text-align: right;\">\n",
       "      <th></th>\n",
       "      <th>etiqueta</th>\n",
       "    </tr>\n",
       "  </thead>\n",
       "  <tbody>\n",
       "    <tr>\n",
       "      <td>0</td>\n",
       "      <td>0</td>\n",
       "    </tr>\n",
       "    <tr>\n",
       "      <td>1</td>\n",
       "      <td>52</td>\n",
       "    </tr>\n",
       "    <tr>\n",
       "      <td>2</td>\n",
       "      <td>72</td>\n",
       "    </tr>\n",
       "    <tr>\n",
       "      <td>3</td>\n",
       "      <td>8</td>\n",
       "    </tr>\n",
       "    <tr>\n",
       "      <td>4</td>\n",
       "      <td>41</td>\n",
       "    </tr>\n",
       "    <tr>\n",
       "      <td>...</td>\n",
       "      <td>...</td>\n",
       "    </tr>\n",
       "    <tr>\n",
       "      <td>95</td>\n",
       "      <td>38</td>\n",
       "    </tr>\n",
       "    <tr>\n",
       "      <td>96</td>\n",
       "      <td>29</td>\n",
       "    </tr>\n",
       "    <tr>\n",
       "      <td>97</td>\n",
       "      <td>12</td>\n",
       "    </tr>\n",
       "    <tr>\n",
       "      <td>98</td>\n",
       "      <td>70</td>\n",
       "    </tr>\n",
       "    <tr>\n",
       "      <td>99</td>\n",
       "      <td>30</td>\n",
       "    </tr>\n",
       "  </tbody>\n",
       "</table>\n",
       "<p>100 rows × 1 columns</p>\n",
       "</div>"
      ],
      "text/plain": [
       "    etiqueta\n",
       "0          0\n",
       "1         52\n",
       "2         72\n",
       "3          8\n",
       "4         41\n",
       "..       ...\n",
       "95        38\n",
       "96        29\n",
       "97        12\n",
       "98        70\n",
       "99        30\n",
       "\n",
       "[100 rows x 1 columns]"
      ]
     },
     "execution_count": 11,
     "metadata": {},
     "output_type": "execute_result"
    }
   ],
   "source": [
    "y"
   ]
  },
  {
   "cell_type": "code",
   "execution_count": 24,
   "metadata": {},
   "outputs": [],
   "source": [
    "#dividimos el dataset en 70% para train y 30% para test\n",
    "X_train,X_test,y_train,y_test = train_test_split(x,y, test_size=0.3)"
   ]
  },
  {
   "cell_type": "code",
   "execution_count": 25,
   "metadata": {},
   "outputs": [
    {
     "data": {
      "text/plain": [
       "(70, 3)"
      ]
     },
     "execution_count": 25,
     "metadata": {},
     "output_type": "execute_result"
    }
   ],
   "source": [
    "X_train.shape"
   ]
  },
  {
   "cell_type": "code",
   "execution_count": 26,
   "metadata": {},
   "outputs": [
    {
     "data": {
      "text/plain": [
       "(30, 3)"
      ]
     },
     "execution_count": 26,
     "metadata": {},
     "output_type": "execute_result"
    }
   ],
   "source": [
    "X_test.shape"
   ]
  },
  {
   "cell_type": "code",
   "execution_count": null,
   "metadata": {},
   "outputs": [],
   "source": []
  }
 ],
 "metadata": {
  "kernelspec": {
   "display_name": "Python 3",
   "language": "python",
   "name": "python3"
  },
  "language_info": {
   "codemirror_mode": {
    "name": "ipython",
    "version": 3
   },
   "file_extension": ".py",
   "mimetype": "text/x-python",
   "name": "python",
   "nbconvert_exporter": "python",
   "pygments_lexer": "ipython3",
   "version": "3.7.4"
  }
 },
 "nbformat": 4,
 "nbformat_minor": 2
}
